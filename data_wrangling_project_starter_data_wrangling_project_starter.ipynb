{
 "cells": [
  {
   "cell_type": "markdown",
   "metadata": {
    "id": "GNIwe5N7s0e_"
   },
   "source": [
    "# Real-world Data Wrangling"
   ]
  },
  {
   "cell_type": "markdown",
   "metadata": {
    "id": "_BG63Tpg8ep_"
   },
   "source": [
    "In this project, you will apply the skills you acquired in the course to gather and wrangle real-world data with two datasets of your choice.\n",
    "\n",
    "You will retrieve and extract the data, assess the data programmatically and visually, accross elements of data quality and structure, and implement a cleaning strategy for the data. You will then store the updated data into your selected database/data store, combine the data, and answer a research question with the datasets.\n",
    "\n",
    "Throughout the process, you are expected to:\n",
    "\n",
    "1. Explain your decisions towards methods used for gathering, assessing, cleaning, storing, and answering the research question\n",
    "2. Write code comments so your code is more readable"
   ]
  },
  {
   "cell_type": "code",
   "execution_count": 1,
   "metadata": {},
   "outputs": [],
   "source": [
    "import pandas as pd"
   ]
  },
  {
   "cell_type": "markdown",
   "metadata": {
    "id": "lDYDkH-Zs7Nn"
   },
   "source": [
    "## 1. Gather data\n",
    "\n",
    "In this section, you will extract data using two different data gathering methods and combine the data. Use at least two different types of data-gathering methods."
   ]
  },
  {
   "cell_type": "markdown",
   "metadata": {
    "id": "LbN7z7rcuqpO"
   },
   "source": [
    "### **1.1.** Problem Statement\n",
    "In 2-4 sentences, explain the kind of problem you want to look at and the datasets you will be wrangling for this project."
   ]
  },
  {
   "cell_type": "markdown",
   "metadata": {
    "id": "gi6swhjSYqu2"
   },
   "source": [
    "Make an prediction of the annual generated electric energy provided by wind energy for all 16 German states (Bundesländer) \n",
    "\n"
   ]
  },
  {
   "cell_type": "markdown",
   "metadata": {
    "id": "8AQfBAdUypMm"
   },
   "source": [
    "### **1.2.** Gather at least two datasets using two different data gathering methods\n",
    "\n",
    "List of data gathering methods:\n",
    "\n",
    "- Download data manually\n",
    "- Programmatically downloading files\n",
    "- Gather data by accessing APIs\n",
    "- Gather and extract data from HTML files using BeautifulSoup\n",
    "- Extract data from a SQL database\n",
    "\n",
    "Each dataset must have at least two variables, and have greater than 500 data samples within each dataset.\n",
    "\n",
    "For each dataset, briefly describe why you picked the dataset and the gathering method (2-3 full sentences), including the names and significance of the variables in the dataset. Show your work (e.g., if using an API to download the data, please include a snippet of your code). \n",
    "\n",
    "Load the dataset programmtically into this notebook."
   ]
  },
  {
   "cell_type": "markdown",
   "metadata": {
    "id": "7e6gS0wL1KTu"
   },
   "source": [
    "#### **Dataset 1**\n",
    "\n",
    "Type: CSV File\n",
    "\n",
    "Method: was downloaded via the API of https://www.renewables.ninja/ \n",
    "\n",
    "Dataset variables:\n",
    "\n",
    "*   Variable 1: 'time' hourly time in UTC, starting in '1980-01-01 00:00:00' to '2019-12-31 23:00:00'\n",
    "*   Variable 2-39: Capacity factors of the wind turbines for all German NUTS 2 regions\n",
    "*   Variable 40: 'DE_TOTAL' Capacity factors of the wind turbines for Germany in Total \n",
    " "
   ]
  },
  {
   "cell_type": "markdown",
   "metadata": {
    "id": "Su8E0uLuYkHU"
   },
   "source": [
    "1st data gathering and loading method <br>\n",
    "SOURCE: https://www.renewables.ninja/ --> country data --> Germany --> Wind (NUTS-2, current fleet, MERRA-2) (94.84 MB) <br>\n",
    "\n",
    "DATASET INFO: # Renewables.ninja Wind (NUTS-2 hourly data, 1980-2019) - ninja_wind_country_DE_merra-2_nuts-2_corrected - Version: 1.3 - License: https://creativecommons.org/licenses/by-nc/4.0/ - Reference: https://doi.org/10.1016/j.energy.2019.08.060 <br>\n",
    "UNITS: time in UTC, other columns are capacity factors [0-1]. Current farms, with offshore farms inclued in closest NUTS zone. Bias corrected using national generation data. <br>"
   ]
  },
  {
   "cell_type": "code",
   "execution_count": 2,
   "metadata": {},
   "outputs": [],
   "source": [
    "# The API Import is based on the API documentation of \n",
    "# https://www.renewables.ninja/documentation/api\n",
    "import requests\n",
    "import pandas as pd\n",
    "import csv\n",
    "\n",
    "# token is obtainable via free registration at https://www.renewables.ninja/\n",
    "token = pd.read_csv('token_renewable_ninjas.txt').iloc[0,0] \n",
    "\n",
    "api_base = 'https://www.renewables.ninja/'\n",
    "\n",
    "s = requests.session()\n",
    "\n",
    "# Send token header with each request\n",
    "s.headers = {'Authorization': 'Token ' + token}\n",
    "\n",
    "# wind energy data for Germany (DE) for all NUTS 2 regions\n",
    "url = api_base + 'country_downloads/DE/ninja_wind_country_DE_current_merra-2_nuts-2_corrected.csv' \n",
    "\n",
    " \n",
    "# Get the response\n",
    "r = s.get(url)\n",
    "\n",
    "# Write response into csv \n",
    "file = open('wind_data_germany.csv', 'wb')\n",
    "file.write(r.content)\n",
    "file.close()\n"
   ]
  },
  {
   "cell_type": "code",
   "execution_count": 72,
   "metadata": {},
   "outputs": [
    {
     "name": "stderr",
     "output_type": "stream",
     "text": [
      "C:\\Users\\boeingh\\AppData\\Local\\Temp\\ipykernel_28324\\3449569336.py:2: DtypeWarning: Columns (1,2,3,4,5,6,7,8,9,10,11,12,13,14,15,16,17,18,19,20,21,22,23,24,25,26,27,28,29,30,31,32,33,34,35,36,37,38,39) have mixed types. Specify dtype option on import or set low_memory=False.\n",
      "  df = pd.read_csv('wind_data_germany.csv')\n"
     ]
    }
   ],
   "source": [
    "# Read the saved csv as DataFrame\n",
    "df = pd.read_csv('wind_data_germany.csv')\n"
   ]
  },
  {
   "cell_type": "code",
   "execution_count": 73,
   "metadata": {},
   "outputs": [
    {
     "data": {
      "text/html": [
       "<div>\n",
       "<style scoped>\n",
       "    .dataframe tbody tr th:only-of-type {\n",
       "        vertical-align: middle;\n",
       "    }\n",
       "\n",
       "    .dataframe tbody tr th {\n",
       "        vertical-align: top;\n",
       "    }\n",
       "\n",
       "    .dataframe thead th {\n",
       "        text-align: right;\n",
       "    }\n",
       "</style>\n",
       "<table border=\"1\" class=\"dataframe\">\n",
       "  <thead>\n",
       "    <tr style=\"text-align: right;\">\n",
       "      <th></th>\n",
       "      <th># Renewables.ninja Wind (NUTS-2 hourly data, 1980-2019) - ninja_wind_country_DE_merra-2_nuts-2_corrected - Version: 1.3 - License: https://creativecommons.org/licenses/by-nc/4.0/ - Reference: https://doi.org/10.1016/j.energy.2019.08.060</th>\n",
       "      <th>Unnamed: 1</th>\n",
       "      <th>Unnamed: 2</th>\n",
       "      <th>Unnamed: 3</th>\n",
       "      <th>Unnamed: 4</th>\n",
       "      <th>Unnamed: 5</th>\n",
       "      <th>Unnamed: 6</th>\n",
       "      <th>Unnamed: 7</th>\n",
       "      <th>Unnamed: 8</th>\n",
       "      <th>Unnamed: 9</th>\n",
       "      <th>...</th>\n",
       "      <th>Unnamed: 30</th>\n",
       "      <th>Unnamed: 31</th>\n",
       "      <th>Unnamed: 32</th>\n",
       "      <th>Unnamed: 33</th>\n",
       "      <th>Unnamed: 34</th>\n",
       "      <th>Unnamed: 35</th>\n",
       "      <th>Unnamed: 36</th>\n",
       "      <th>Unnamed: 37</th>\n",
       "      <th>Unnamed: 38</th>\n",
       "      <th>Unnamed: 39</th>\n",
       "    </tr>\n",
       "  </thead>\n",
       "  <tbody>\n",
       "    <tr>\n",
       "      <th>0</th>\n",
       "      <td># Units: time in UTC, other columns are capaci...</td>\n",
       "      <td>NaN</td>\n",
       "      <td>NaN</td>\n",
       "      <td>NaN</td>\n",
       "      <td>NaN</td>\n",
       "      <td>NaN</td>\n",
       "      <td>NaN</td>\n",
       "      <td>NaN</td>\n",
       "      <td>NaN</td>\n",
       "      <td>NaN</td>\n",
       "      <td>...</td>\n",
       "      <td>NaN</td>\n",
       "      <td>NaN</td>\n",
       "      <td>NaN</td>\n",
       "      <td>NaN</td>\n",
       "      <td>NaN</td>\n",
       "      <td>NaN</td>\n",
       "      <td>NaN</td>\n",
       "      <td>NaN</td>\n",
       "      <td>NaN</td>\n",
       "      <td>NaN</td>\n",
       "    </tr>\n",
       "    <tr>\n",
       "      <th>1</th>\n",
       "      <td>time</td>\n",
       "      <td>DE11</td>\n",
       "      <td>DE12</td>\n",
       "      <td>DE13</td>\n",
       "      <td>DE14</td>\n",
       "      <td>DE21</td>\n",
       "      <td>DE22</td>\n",
       "      <td>DE23</td>\n",
       "      <td>DE24</td>\n",
       "      <td>DE25</td>\n",
       "      <td>...</td>\n",
       "      <td>DEB2</td>\n",
       "      <td>DEB3</td>\n",
       "      <td>DEC0</td>\n",
       "      <td>DED2</td>\n",
       "      <td>DED4</td>\n",
       "      <td>DED5</td>\n",
       "      <td>DEE0</td>\n",
       "      <td>DEF0</td>\n",
       "      <td>DEG0</td>\n",
       "      <td>DE_TOTAL</td>\n",
       "    </tr>\n",
       "    <tr>\n",
       "      <th>2</th>\n",
       "      <td>1980-01-01 00:00:00</td>\n",
       "      <td>0.3095</td>\n",
       "      <td>0.2976</td>\n",
       "      <td>0.1413</td>\n",
       "      <td>0.396</td>\n",
       "      <td>0.4268</td>\n",
       "      <td>0.3764</td>\n",
       "      <td>0.3452</td>\n",
       "      <td>0.2439</td>\n",
       "      <td>0.3468</td>\n",
       "      <td>...</td>\n",
       "      <td>0.2071</td>\n",
       "      <td>0.2788</td>\n",
       "      <td>0.1693</td>\n",
       "      <td>0.4048</td>\n",
       "      <td>0.3638</td>\n",
       "      <td>0.4305</td>\n",
       "      <td>0.3365</td>\n",
       "      <td>0.0175</td>\n",
       "      <td>0.3233</td>\n",
       "      <td>0.2561</td>\n",
       "    </tr>\n",
       "    <tr>\n",
       "      <th>3</th>\n",
       "      <td>1980-01-01 01:00:00</td>\n",
       "      <td>0.2973</td>\n",
       "      <td>0.2679</td>\n",
       "      <td>0.108</td>\n",
       "      <td>0.3758</td>\n",
       "      <td>0.4875</td>\n",
       "      <td>0.39</td>\n",
       "      <td>0.3714</td>\n",
       "      <td>0.2719</td>\n",
       "      <td>0.4085</td>\n",
       "      <td>...</td>\n",
       "      <td>0.1792</td>\n",
       "      <td>0.2371</td>\n",
       "      <td>0.161</td>\n",
       "      <td>0.4302</td>\n",
       "      <td>0.3025</td>\n",
       "      <td>0.3668</td>\n",
       "      <td>0.3284</td>\n",
       "      <td>0.0236</td>\n",
       "      <td>0.3143</td>\n",
       "      <td>0.2547</td>\n",
       "    </tr>\n",
       "    <tr>\n",
       "      <th>4</th>\n",
       "      <td>1980-01-01 02:00:00</td>\n",
       "      <td>0.3347</td>\n",
       "      <td>0.2664</td>\n",
       "      <td>0.1025</td>\n",
       "      <td>0.3826</td>\n",
       "      <td>0.5073</td>\n",
       "      <td>0.4446</td>\n",
       "      <td>0.4002</td>\n",
       "      <td>0.2992</td>\n",
       "      <td>0.4276</td>\n",
       "      <td>...</td>\n",
       "      <td>0.1981</td>\n",
       "      <td>0.2072</td>\n",
       "      <td>0.1721</td>\n",
       "      <td>0.3462</td>\n",
       "      <td>0.2959</td>\n",
       "      <td>0.35</td>\n",
       "      <td>0.319</td>\n",
       "      <td>0.0315</td>\n",
       "      <td>0.3273</td>\n",
       "      <td>0.2426</td>\n",
       "    </tr>\n",
       "  </tbody>\n",
       "</table>\n",
       "<p>5 rows × 40 columns</p>\n",
       "</div>"
      ],
      "text/plain": [
       "  # Renewables.ninja Wind (NUTS-2 hourly data, 1980-2019) - ninja_wind_country_DE_merra-2_nuts-2_corrected - Version: 1.3 - License: https://creativecommons.org/licenses/by-nc/4.0/ - Reference: https://doi.org/10.1016/j.energy.2019.08.060  \\\n",
       "0  # Units: time in UTC, other columns are capaci...                                                                                                                                                                                             \n",
       "1                                               time                                                                                                                                                                                             \n",
       "2                                1980-01-01 00:00:00                                                                                                                                                                                             \n",
       "3                                1980-01-01 01:00:00                                                                                                                                                                                             \n",
       "4                                1980-01-01 02:00:00                                                                                                                                                                                             \n",
       "\n",
       "  Unnamed: 1 Unnamed: 2 Unnamed: 3 Unnamed: 4 Unnamed: 5 Unnamed: 6  \\\n",
       "0        NaN        NaN        NaN        NaN        NaN        NaN   \n",
       "1       DE11       DE12       DE13       DE14       DE21       DE22   \n",
       "2     0.3095     0.2976     0.1413      0.396     0.4268     0.3764   \n",
       "3     0.2973     0.2679      0.108     0.3758     0.4875       0.39   \n",
       "4     0.3347     0.2664     0.1025     0.3826     0.5073     0.4446   \n",
       "\n",
       "  Unnamed: 7 Unnamed: 8 Unnamed: 9  ... Unnamed: 30 Unnamed: 31 Unnamed: 32  \\\n",
       "0        NaN        NaN        NaN  ...         NaN         NaN         NaN   \n",
       "1       DE23       DE24       DE25  ...        DEB2        DEB3        DEC0   \n",
       "2     0.3452     0.2439     0.3468  ...      0.2071      0.2788      0.1693   \n",
       "3     0.3714     0.2719     0.4085  ...      0.1792      0.2371       0.161   \n",
       "4     0.4002     0.2992     0.4276  ...      0.1981      0.2072      0.1721   \n",
       "\n",
       "  Unnamed: 33 Unnamed: 34 Unnamed: 35 Unnamed: 36 Unnamed: 37 Unnamed: 38  \\\n",
       "0         NaN         NaN         NaN         NaN         NaN         NaN   \n",
       "1        DED2        DED4        DED5        DEE0        DEF0        DEG0   \n",
       "2      0.4048      0.3638      0.4305      0.3365      0.0175      0.3233   \n",
       "3      0.4302      0.3025      0.3668      0.3284      0.0236      0.3143   \n",
       "4      0.3462      0.2959        0.35       0.319      0.0315      0.3273   \n",
       "\n",
       "  Unnamed: 39  \n",
       "0         NaN  \n",
       "1    DE_TOTAL  \n",
       "2      0.2561  \n",
       "3      0.2547  \n",
       "4      0.2426  \n",
       "\n",
       "[5 rows x 40 columns]"
      ]
     },
     "execution_count": 73,
     "metadata": {},
     "output_type": "execute_result"
    }
   ],
   "source": [
    "df.head(5)"
   ]
  },
  {
   "cell_type": "markdown",
   "metadata": {
    "id": "hoUjq1tPzz7P"
   },
   "source": [
    "#### Dataset 2\n",
    "\n",
    "Installed Wind Turbines in Germany from public register for all electricity producing entities in public electricity networks. Downloaded 1. Sep 2023. \n",
    "Type:  CSV File\n",
    "\n",
    "Method: Obtained via direct download from webpage https://www.marktstammdatenregister.de/MaStR/Einheit/Einheiten/OeffentlicheEinheitenuebersicht  \n",
    "\n",
    "\n",
    "\n",
    "Dataset variables:\n",
    "\n",
    "The Dataset contains 50 different columns/variables. Hence, all non necessary variables are going to be removed\n",
    "*   *Variable 1 FILL IN* (e.g., H_MEAN: Mean hourly wage)\n",
    "*   *Variable 2 FILL IN*"
   ]
  },
  {
   "cell_type": "code",
   "execution_count": 74,
   "metadata": {
    "id": "6zT0QxRyYmm7"
   },
   "outputs": [],
   "source": [
    "#FILL IN 2nd data gathering and loading method\n",
    "\n",
    "df2_1 = pd.read_csv('Stromerzeuger_1_bis_25000.csv', sep=';', on_bad_lines='warn') \n",
    "df2_2 = pd.read_csv('Stromerzeuger_25001_bis_34883.csv', sep=';', on_bad_lines='warn') \n",
    "\n",
    "df2 = pd.concat([df2_1, df2_2])"
   ]
  },
  {
   "cell_type": "code",
   "execution_count": 75,
   "metadata": {},
   "outputs": [
    {
     "data": {
      "text/html": [
       "<div>\n",
       "<style scoped>\n",
       "    .dataframe tbody tr th:only-of-type {\n",
       "        vertical-align: middle;\n",
       "    }\n",
       "\n",
       "    .dataframe tbody tr th {\n",
       "        vertical-align: top;\n",
       "    }\n",
       "\n",
       "    .dataframe thead th {\n",
       "        text-align: right;\n",
       "    }\n",
       "</style>\n",
       "<table border=\"1\" class=\"dataframe\">\n",
       "  <thead>\n",
       "    <tr style=\"text-align: right;\">\n",
       "      <th></th>\n",
       "      <th>MaStR-Nr. der Einheit</th>\n",
       "      <th>Anzeige-Name der Einheit</th>\n",
       "      <th>Betriebs-Status</th>\n",
       "      <th>Energieträger</th>\n",
       "      <th>Bruttoleistung der Einheit</th>\n",
       "      <th>Nettonennleistung der Einheit</th>\n",
       "      <th>Inbetriebnahmedatum der Einheit</th>\n",
       "      <th>Registrierungsdatum der Einheit</th>\n",
       "      <th>Bundesland</th>\n",
       "      <th>Postleitzahl</th>\n",
       "      <th>...</th>\n",
       "      <th>MaStR-Nr. der Lokation</th>\n",
       "      <th>MaStR-Nr. der EEG-Anlage</th>\n",
       "      <th>EEG-Anlagenschlüssel</th>\n",
       "      <th>Inbetriebnahmedatum der EEG-Anlage</th>\n",
       "      <th>Installierte Leistung</th>\n",
       "      <th>Zuschlagnummer (EEG/KWK-Ausschreibung)</th>\n",
       "      <th>MaStR-Nr. der KWK-Anlage</th>\n",
       "      <th>Inbetriebnahmedatum der KWK-Anlage</th>\n",
       "      <th>Elektrische KWK-Leistung</th>\n",
       "      <th>Thermische Nutzleistung in kW</th>\n",
       "    </tr>\n",
       "  </thead>\n",
       "  <tbody>\n",
       "    <tr>\n",
       "      <th>0</th>\n",
       "      <td>SEE940146675093</td>\n",
       "      <td>WEA 5</td>\n",
       "      <td>In Betrieb</td>\n",
       "      <td>Wind</td>\n",
       "      <td>3000</td>\n",
       "      <td>3000</td>\n",
       "      <td>1.9.2017</td>\n",
       "      <td>13.2.2019</td>\n",
       "      <td>Hessen</td>\n",
       "      <td>34298.0</td>\n",
       "      <td>...</td>\n",
       "      <td>SEL911577226093</td>\n",
       "      <td>EEG951718125489</td>\n",
       "      <td>E23572010000000001000024015700005</td>\n",
       "      <td>1.9.2017</td>\n",
       "      <td>3000</td>\n",
       "      <td>NaN</td>\n",
       "      <td>NaN</td>\n",
       "      <td>NaN</td>\n",
       "      <td>NaN</td>\n",
       "      <td>NaN</td>\n",
       "    </tr>\n",
       "    <tr>\n",
       "      <th>1</th>\n",
       "      <td>SEE973767078653</td>\n",
       "      <td>WEA 2 / 1150775</td>\n",
       "      <td>In Betrieb</td>\n",
       "      <td>Wind</td>\n",
       "      <td>3000</td>\n",
       "      <td>3000</td>\n",
       "      <td>28.9.2017</td>\n",
       "      <td>1.2.2019</td>\n",
       "      <td>Schleswig-Holstein</td>\n",
       "      <td>23824.0</td>\n",
       "      <td>...</td>\n",
       "      <td>SEL950515942794</td>\n",
       "      <td>EEG912885854947</td>\n",
       "      <td>E2079301EA01000000000087410800002</td>\n",
       "      <td>28.9.2017</td>\n",
       "      <td>3000</td>\n",
       "      <td>NaN</td>\n",
       "      <td>NaN</td>\n",
       "      <td>NaN</td>\n",
       "      <td>NaN</td>\n",
       "      <td>NaN</td>\n",
       "    </tr>\n",
       "    <tr>\n",
       "      <th>2</th>\n",
       "      <td>SEE914108319653</td>\n",
       "      <td>WEA 4</td>\n",
       "      <td>In Betrieb</td>\n",
       "      <td>Wind</td>\n",
       "      <td>3000</td>\n",
       "      <td>3000</td>\n",
       "      <td>4.9.2017</td>\n",
       "      <td>13.2.2019</td>\n",
       "      <td>Hessen</td>\n",
       "      <td>34298.0</td>\n",
       "      <td>...</td>\n",
       "      <td>SEL911577226093</td>\n",
       "      <td>EEG996216581153</td>\n",
       "      <td>E23572010000000001000024015700006</td>\n",
       "      <td>4.9.2017</td>\n",
       "      <td>3000</td>\n",
       "      <td>NaN</td>\n",
       "      <td>NaN</td>\n",
       "      <td>NaN</td>\n",
       "      <td>NaN</td>\n",
       "      <td>NaN</td>\n",
       "    </tr>\n",
       "    <tr>\n",
       "      <th>3</th>\n",
       "      <td>SEE982417853618</td>\n",
       "      <td>WEA 6</td>\n",
       "      <td>In Betrieb</td>\n",
       "      <td>Wind</td>\n",
       "      <td>3000</td>\n",
       "      <td>3000</td>\n",
       "      <td>31.8.2017</td>\n",
       "      <td>13.2.2019</td>\n",
       "      <td>Hessen</td>\n",
       "      <td>34298.0</td>\n",
       "      <td>...</td>\n",
       "      <td>SEL911577226093</td>\n",
       "      <td>EEG926639129328</td>\n",
       "      <td>E23572010000000001000024015700004</td>\n",
       "      <td>31.8.2017</td>\n",
       "      <td>3000</td>\n",
       "      <td>NaN</td>\n",
       "      <td>NaN</td>\n",
       "      <td>NaN</td>\n",
       "      <td>NaN</td>\n",
       "      <td>NaN</td>\n",
       "    </tr>\n",
       "    <tr>\n",
       "      <th>4</th>\n",
       "      <td>SEE913741454097</td>\n",
       "      <td>WEA 1 BMR</td>\n",
       "      <td>In Betrieb</td>\n",
       "      <td>Wind</td>\n",
       "      <td>2400</td>\n",
       "      <td>2400</td>\n",
       "      <td>11.1.2017</td>\n",
       "      <td>31.1.2019</td>\n",
       "      <td>Nordrhein-Westfalen</td>\n",
       "      <td>52525.0</td>\n",
       "      <td>...</td>\n",
       "      <td>SEL928898629335</td>\n",
       "      <td>EEG982767300077</td>\n",
       "      <td>E3070101Wn00000000000002891900001</td>\n",
       "      <td>19.1.2017</td>\n",
       "      <td>2400</td>\n",
       "      <td>NaN</td>\n",
       "      <td>NaN</td>\n",
       "      <td>NaN</td>\n",
       "      <td>NaN</td>\n",
       "      <td>NaN</td>\n",
       "    </tr>\n",
       "  </tbody>\n",
       "</table>\n",
       "<p>5 rows × 50 columns</p>\n",
       "</div>"
      ],
      "text/plain": [
       "  MaStR-Nr. der Einheit Anzeige-Name der Einheit Betriebs-Status  \\\n",
       "0       SEE940146675093                    WEA 5      In Betrieb   \n",
       "1       SEE973767078653          WEA 2 / 1150775      In Betrieb   \n",
       "2       SEE914108319653                    WEA 4      In Betrieb   \n",
       "3       SEE982417853618                    WEA 6      In Betrieb   \n",
       "4       SEE913741454097                WEA 1 BMR      In Betrieb   \n",
       "\n",
       "  Energieträger Bruttoleistung der Einheit Nettonennleistung der Einheit  \\\n",
       "0          Wind                       3000                          3000   \n",
       "1          Wind                       3000                          3000   \n",
       "2          Wind                       3000                          3000   \n",
       "3          Wind                       3000                          3000   \n",
       "4          Wind                       2400                          2400   \n",
       "\n",
       "  Inbetriebnahmedatum der Einheit Registrierungsdatum der Einheit  \\\n",
       "0                        1.9.2017                       13.2.2019   \n",
       "1                       28.9.2017                        1.2.2019   \n",
       "2                        4.9.2017                       13.2.2019   \n",
       "3                       31.8.2017                       13.2.2019   \n",
       "4                       11.1.2017                       31.1.2019   \n",
       "\n",
       "            Bundesland  Postleitzahl  ... MaStR-Nr. der Lokation  \\\n",
       "0               Hessen       34298.0  ...        SEL911577226093   \n",
       "1   Schleswig-Holstein       23824.0  ...        SEL950515942794   \n",
       "2               Hessen       34298.0  ...        SEL911577226093   \n",
       "3               Hessen       34298.0  ...        SEL911577226093   \n",
       "4  Nordrhein-Westfalen       52525.0  ...        SEL928898629335   \n",
       "\n",
       "  MaStR-Nr. der EEG-Anlage               EEG-Anlagenschlüssel  \\\n",
       "0          EEG951718125489  E23572010000000001000024015700005   \n",
       "1          EEG912885854947  E2079301EA01000000000087410800002   \n",
       "2          EEG996216581153  E23572010000000001000024015700006   \n",
       "3          EEG926639129328  E23572010000000001000024015700004   \n",
       "4          EEG982767300077  E3070101Wn00000000000002891900001   \n",
       "\n",
       "  Inbetriebnahmedatum der EEG-Anlage Installierte Leistung  \\\n",
       "0                           1.9.2017                  3000   \n",
       "1                          28.9.2017                  3000   \n",
       "2                           4.9.2017                  3000   \n",
       "3                          31.8.2017                  3000   \n",
       "4                          19.1.2017                  2400   \n",
       "\n",
       "   Zuschlagnummer (EEG/KWK-Ausschreibung) MaStR-Nr. der KWK-Anlage  \\\n",
       "0                                     NaN                      NaN   \n",
       "1                                     NaN                      NaN   \n",
       "2                                     NaN                      NaN   \n",
       "3                                     NaN                      NaN   \n",
       "4                                     NaN                      NaN   \n",
       "\n",
       "  Inbetriebnahmedatum der KWK-Anlage  Elektrische KWK-Leistung  \\\n",
       "0                                NaN                       NaN   \n",
       "1                                NaN                       NaN   \n",
       "2                                NaN                       NaN   \n",
       "3                                NaN                       NaN   \n",
       "4                                NaN                       NaN   \n",
       "\n",
       "   Thermische Nutzleistung in kW  \n",
       "0                            NaN  \n",
       "1                            NaN  \n",
       "2                            NaN  \n",
       "3                            NaN  \n",
       "4                            NaN  \n",
       "\n",
       "[5 rows x 50 columns]"
      ]
     },
     "execution_count": 75,
     "metadata": {},
     "output_type": "execute_result"
    }
   ],
   "source": [
    "df2.head(5)"
   ]
  },
  {
   "cell_type": "code",
   "execution_count": 76,
   "metadata": {},
   "outputs": [
    {
     "name": "stdout",
     "output_type": "stream",
     "text": [
      "<class 'pandas.core.frame.DataFrame'>\n",
      "Int64Index: 34883 entries, 0 to 9882\n",
      "Data columns (total 50 columns):\n",
      " #   Column                                  Non-Null Count  Dtype  \n",
      "---  ------                                  --------------  -----  \n",
      " 0   MaStR-Nr. der Einheit                   34883 non-null  object \n",
      " 1   Anzeige-Name der Einheit                34883 non-null  object \n",
      " 2   Betriebs-Status                         34883 non-null  object \n",
      " 3   Energieträger                           34883 non-null  object \n",
      " 4   Bruttoleistung der Einheit              34883 non-null  object \n",
      " 5   Nettonennleistung der Einheit           34883 non-null  object \n",
      " 6   Inbetriebnahmedatum der Einheit         32230 non-null  object \n",
      " 7   Registrierungsdatum der Einheit         34883 non-null  object \n",
      " 8   Bundesland                              34882 non-null  object \n",
      " 9   Postleitzahl                            33097 non-null  float64\n",
      " 10  Ort                                     33097 non-null  object \n",
      " 11  Straße                                  4664 non-null   object \n",
      " 12  Hausnummer                              2793 non-null   object \n",
      " 13  Gemarkung                               27512 non-null  object \n",
      " 14  Flurstück                               27582 non-null  object \n",
      " 15  Gemeindeschlüssel                       33098 non-null  float64\n",
      " 16  Koordinate: Breitengrad (WGS84)         33961 non-null  object \n",
      " 17  Koordinate: Längengrad (WGS84)          33961 non-null  object \n",
      " 18  Anzahl der Solar-Module                 0 non-null      float64\n",
      " 19  Hauptausrichtung der Solar-Module       0 non-null      float64\n",
      " 20  Name des Windparks                      34066 non-null  object \n",
      " 21  Nabenhöhe der Windenergieanlage         34016 non-null  object \n",
      " 22  Rotordurchmesser der Windenergieanlage  34424 non-null  object \n",
      " 23  Hersteller der Windenergieanlage        34428 non-null  object \n",
      " 24  Typenbezeichnung                        34411 non-null  object \n",
      " 25  Hauptbrennstoff der Einheit             0 non-null      float64\n",
      " 26  Nutzbare Speicherkapazität in kWh       0 non-null      float64\n",
      " 27  Technologie der Stromerzeugung          34883 non-null  object \n",
      " 28  Lage der Einheit                        34881 non-null  object \n",
      " 29  Letzte Aktualisierung                   34883 non-null  object \n",
      " 30  Datum der endgültigen Stilllegung       1180 non-null   object \n",
      " 31  Datum der geplanten Inbetriebnahme      2653 non-null   object \n",
      " 32  Name des Anlagenbetreibers (nur Org.)   33928 non-null  object \n",
      " 33  \tMaStR-Nr. des Anlagenbetreibers        33928 non-null  object \n",
      " 34  Volleinspeisung oder Teileinspeisung    34234 non-null  object \n",
      " 35  MaStR-Nr. der Genehmigung               26237 non-null  object \n",
      " 36  Name des Anschluss-Netzbetreibers       33513 non-null  object \n",
      " 37  MaStR-Nr. des Anschluss-Netzbetreibers  33513 non-null  object \n",
      " 38  Netzbetreiberprüfung                    32229 non-null  object \n",
      " 39  Spannungsebene                          34583 non-null  object \n",
      " 40  MaStR-Nr. der Lokation                  31272 non-null  object \n",
      " 41  MaStR-Nr. der EEG-Anlage                32231 non-null  object \n",
      " 42  EEG-Anlagenschlüssel                    30012 non-null  object \n",
      " 43  Inbetriebnahmedatum der EEG-Anlage      32231 non-null  object \n",
      " 44  Installierte Leistung                   32231 non-null  object \n",
      " 45  Zuschlagnummer (EEG/KWK-Ausschreibung)  2254 non-null   object \n",
      " 46  MaStR-Nr. der KWK-Anlage                0 non-null      float64\n",
      " 47  Inbetriebnahmedatum der KWK-Anlage      0 non-null      float64\n",
      " 48  Elektrische KWK-Leistung                0 non-null      float64\n",
      " 49  Thermische Nutzleistung in kW           0 non-null      float64\n",
      "dtypes: float64(10), object(40)\n",
      "memory usage: 13.6+ MB\n"
     ]
    }
   ],
   "source": [
    "df2.info()"
   ]
  },
  {
   "cell_type": "markdown",
   "metadata": {},
   "source": [
    "Optional data storing step: You may save your raw dataset files to the local data store before moving to the next step."
   ]
  },
  {
   "cell_type": "code",
   "execution_count": 33,
   "metadata": {},
   "outputs": [],
   "source": [
    "#Optional: store the raw data in your local data store"
   ]
  },
  {
   "cell_type": "markdown",
   "metadata": {
    "id": "QwSWIVmotLgV"
   },
   "source": [
    "## 2. Assess data\n",
    "\n",
    "Assess the data according to data quality and tidiness metrics using the report below.\n",
    "\n",
    "List **two** data quality issues and **two** tidiness issues. Assess each data issue visually **and** programmatically, then briefly describe the issue you find.  **Make sure you include justifications for the methods you use for the assessment.**"
   ]
  },
  {
   "cell_type": "markdown",
   "metadata": {},
   "source": [
    "Data quality dimensions help guide your thought process while assessing and cleaning. <br>\n",
    "\n",
    "Let's recap the key dimensions of data quality: \n",
    "\n",
    "1. Completeness is a metric that helps you understand whether your data is sufficient to answer interesting questions or solve your problem.\n",
    "2. Validity is a metric helping you understand how well your data conforms to a defined set of rules for data, also known as a schema.\n",
    "3. Accuracy is a metric that helps you understand whether your data accurately represents the reality it aims to depict.\n",
    "4. Consistency is a metric that helps you understand two things: whether your data follows a standard format and whether your data’s info matches with information from other data sources.\n",
    "5. Uniqueness is a metric that helps you understand whether there are duplicate or overlapping values in your data."
   ]
  },
  {
   "cell_type": "markdown",
   "metadata": {
    "id": "adaK2iPNzVu4"
   },
   "source": [
    "### Quality Issue 1:"
   ]
  },
  {
   "cell_type": "code",
   "execution_count": 34,
   "metadata": {
    "id": "SpW59kh-zl8d"
   },
   "outputs": [
    {
     "data": {
      "text/html": [
       "<div>\n",
       "<style scoped>\n",
       "    .dataframe tbody tr th:only-of-type {\n",
       "        vertical-align: middle;\n",
       "    }\n",
       "\n",
       "    .dataframe tbody tr th {\n",
       "        vertical-align: top;\n",
       "    }\n",
       "\n",
       "    .dataframe thead th {\n",
       "        text-align: right;\n",
       "    }\n",
       "</style>\n",
       "<table border=\"1\" class=\"dataframe\">\n",
       "  <thead>\n",
       "    <tr style=\"text-align: right;\">\n",
       "      <th></th>\n",
       "      <th># Renewables.ninja Wind (NUTS-2 hourly data, 1980-2019) - ninja_wind_country_DE_merra-2_nuts-2_corrected - Version: 1.3 - License: https://creativecommons.org/licenses/by-nc/4.0/ - Reference: https://doi.org/10.1016/j.energy.2019.08.060</th>\n",
       "      <th>Unnamed: 1</th>\n",
       "      <th>Unnamed: 2</th>\n",
       "      <th>Unnamed: 3</th>\n",
       "      <th>Unnamed: 4</th>\n",
       "      <th>Unnamed: 5</th>\n",
       "      <th>Unnamed: 6</th>\n",
       "      <th>Unnamed: 7</th>\n",
       "      <th>Unnamed: 8</th>\n",
       "      <th>Unnamed: 9</th>\n",
       "      <th>...</th>\n",
       "      <th>Unnamed: 30</th>\n",
       "      <th>Unnamed: 31</th>\n",
       "      <th>Unnamed: 32</th>\n",
       "      <th>Unnamed: 33</th>\n",
       "      <th>Unnamed: 34</th>\n",
       "      <th>Unnamed: 35</th>\n",
       "      <th>Unnamed: 36</th>\n",
       "      <th>Unnamed: 37</th>\n",
       "      <th>Unnamed: 38</th>\n",
       "      <th>Unnamed: 39</th>\n",
       "    </tr>\n",
       "  </thead>\n",
       "  <tbody>\n",
       "    <tr>\n",
       "      <th>0</th>\n",
       "      <td># Units: time in UTC, other columns are capaci...</td>\n",
       "      <td>NaN</td>\n",
       "      <td>NaN</td>\n",
       "      <td>NaN</td>\n",
       "      <td>NaN</td>\n",
       "      <td>NaN</td>\n",
       "      <td>NaN</td>\n",
       "      <td>NaN</td>\n",
       "      <td>NaN</td>\n",
       "      <td>NaN</td>\n",
       "      <td>...</td>\n",
       "      <td>NaN</td>\n",
       "      <td>NaN</td>\n",
       "      <td>NaN</td>\n",
       "      <td>NaN</td>\n",
       "      <td>NaN</td>\n",
       "      <td>NaN</td>\n",
       "      <td>NaN</td>\n",
       "      <td>NaN</td>\n",
       "      <td>NaN</td>\n",
       "      <td>NaN</td>\n",
       "    </tr>\n",
       "    <tr>\n",
       "      <th>1</th>\n",
       "      <td>time</td>\n",
       "      <td>DE11</td>\n",
       "      <td>DE12</td>\n",
       "      <td>DE13</td>\n",
       "      <td>DE14</td>\n",
       "      <td>DE21</td>\n",
       "      <td>DE22</td>\n",
       "      <td>DE23</td>\n",
       "      <td>DE24</td>\n",
       "      <td>DE25</td>\n",
       "      <td>...</td>\n",
       "      <td>DEB2</td>\n",
       "      <td>DEB3</td>\n",
       "      <td>DEC0</td>\n",
       "      <td>DED2</td>\n",
       "      <td>DED4</td>\n",
       "      <td>DED5</td>\n",
       "      <td>DEE0</td>\n",
       "      <td>DEF0</td>\n",
       "      <td>DEG0</td>\n",
       "      <td>DE_TOTAL</td>\n",
       "    </tr>\n",
       "    <tr>\n",
       "      <th>2</th>\n",
       "      <td>1980-01-01 00:00:00</td>\n",
       "      <td>0.3095</td>\n",
       "      <td>0.2976</td>\n",
       "      <td>0.1413</td>\n",
       "      <td>0.396</td>\n",
       "      <td>0.4268</td>\n",
       "      <td>0.3764</td>\n",
       "      <td>0.3452</td>\n",
       "      <td>0.2439</td>\n",
       "      <td>0.3468</td>\n",
       "      <td>...</td>\n",
       "      <td>0.2071</td>\n",
       "      <td>0.2788</td>\n",
       "      <td>0.1693</td>\n",
       "      <td>0.4048</td>\n",
       "      <td>0.3638</td>\n",
       "      <td>0.4305</td>\n",
       "      <td>0.3365</td>\n",
       "      <td>0.0175</td>\n",
       "      <td>0.3233</td>\n",
       "      <td>0.2561</td>\n",
       "    </tr>\n",
       "    <tr>\n",
       "      <th>3</th>\n",
       "      <td>1980-01-01 01:00:00</td>\n",
       "      <td>0.2973</td>\n",
       "      <td>0.2679</td>\n",
       "      <td>0.108</td>\n",
       "      <td>0.3758</td>\n",
       "      <td>0.4875</td>\n",
       "      <td>0.39</td>\n",
       "      <td>0.3714</td>\n",
       "      <td>0.2719</td>\n",
       "      <td>0.4085</td>\n",
       "      <td>...</td>\n",
       "      <td>0.1792</td>\n",
       "      <td>0.2371</td>\n",
       "      <td>0.161</td>\n",
       "      <td>0.4302</td>\n",
       "      <td>0.3025</td>\n",
       "      <td>0.3668</td>\n",
       "      <td>0.3284</td>\n",
       "      <td>0.0236</td>\n",
       "      <td>0.3143</td>\n",
       "      <td>0.2547</td>\n",
       "    </tr>\n",
       "    <tr>\n",
       "      <th>4</th>\n",
       "      <td>1980-01-01 02:00:00</td>\n",
       "      <td>0.3347</td>\n",
       "      <td>0.2664</td>\n",
       "      <td>0.1025</td>\n",
       "      <td>0.3826</td>\n",
       "      <td>0.5073</td>\n",
       "      <td>0.4446</td>\n",
       "      <td>0.4002</td>\n",
       "      <td>0.2992</td>\n",
       "      <td>0.4276</td>\n",
       "      <td>...</td>\n",
       "      <td>0.1981</td>\n",
       "      <td>0.2072</td>\n",
       "      <td>0.1721</td>\n",
       "      <td>0.3462</td>\n",
       "      <td>0.2959</td>\n",
       "      <td>0.35</td>\n",
       "      <td>0.319</td>\n",
       "      <td>0.0315</td>\n",
       "      <td>0.3273</td>\n",
       "      <td>0.2426</td>\n",
       "    </tr>\n",
       "  </tbody>\n",
       "</table>\n",
       "<p>5 rows × 40 columns</p>\n",
       "</div>"
      ],
      "text/plain": [
       "  # Renewables.ninja Wind (NUTS-2 hourly data, 1980-2019) - ninja_wind_country_DE_merra-2_nuts-2_corrected - Version: 1.3 - License: https://creativecommons.org/licenses/by-nc/4.0/ - Reference: https://doi.org/10.1016/j.energy.2019.08.060  \\\n",
       "0  # Units: time in UTC, other columns are capaci...                                                                                                                                                                                             \n",
       "1                                               time                                                                                                                                                                                             \n",
       "2                                1980-01-01 00:00:00                                                                                                                                                                                             \n",
       "3                                1980-01-01 01:00:00                                                                                                                                                                                             \n",
       "4                                1980-01-01 02:00:00                                                                                                                                                                                             \n",
       "\n",
       "  Unnamed: 1 Unnamed: 2 Unnamed: 3 Unnamed: 4 Unnamed: 5 Unnamed: 6  \\\n",
       "0        NaN        NaN        NaN        NaN        NaN        NaN   \n",
       "1       DE11       DE12       DE13       DE14       DE21       DE22   \n",
       "2     0.3095     0.2976     0.1413      0.396     0.4268     0.3764   \n",
       "3     0.2973     0.2679      0.108     0.3758     0.4875       0.39   \n",
       "4     0.3347     0.2664     0.1025     0.3826     0.5073     0.4446   \n",
       "\n",
       "  Unnamed: 7 Unnamed: 8 Unnamed: 9  ... Unnamed: 30 Unnamed: 31 Unnamed: 32  \\\n",
       "0        NaN        NaN        NaN  ...         NaN         NaN         NaN   \n",
       "1       DE23       DE24       DE25  ...        DEB2        DEB3        DEC0   \n",
       "2     0.3452     0.2439     0.3468  ...      0.2071      0.2788      0.1693   \n",
       "3     0.3714     0.2719     0.4085  ...      0.1792      0.2371       0.161   \n",
       "4     0.4002     0.2992     0.4276  ...      0.1981      0.2072      0.1721   \n",
       "\n",
       "  Unnamed: 33 Unnamed: 34 Unnamed: 35 Unnamed: 36 Unnamed: 37 Unnamed: 38  \\\n",
       "0         NaN         NaN         NaN         NaN         NaN         NaN   \n",
       "1        DED2        DED4        DED5        DEE0        DEF0        DEG0   \n",
       "2      0.4048      0.3638      0.4305      0.3365      0.0175      0.3233   \n",
       "3      0.4302      0.3025      0.3668      0.3284      0.0236      0.3143   \n",
       "4      0.3462      0.2959        0.35       0.319      0.0315      0.3273   \n",
       "\n",
       "  Unnamed: 39  \n",
       "0         NaN  \n",
       "1    DE_TOTAL  \n",
       "2      0.2561  \n",
       "3      0.2547  \n",
       "4      0.2426  \n",
       "\n",
       "[5 rows x 40 columns]"
      ]
     },
     "execution_count": 34,
     "metadata": {},
     "output_type": "execute_result"
    }
   ],
   "source": [
    "#FILL IN - Inspecting the dataframe visually\n",
    "df.head(5)"
   ]
  },
  {
   "cell_type": "code",
   "execution_count": 35,
   "metadata": {
    "id": "-qfcocStzsKg"
   },
   "outputs": [],
   "source": [
    "#FILL IN - Inspecting the dataframe programmatically"
   ]
  },
  {
   "cell_type": "markdown",
   "metadata": {},
   "source": [
    "Issue and justification: *FILL IN* <br>\n",
    "columns and time index are not set correctly"
   ]
  },
  {
   "cell_type": "markdown",
   "metadata": {
    "id": "8Be77N4I1AmE"
   },
   "source": [
    "### Quality Issue 2:"
   ]
  },
  {
   "cell_type": "code",
   "execution_count": 36,
   "metadata": {
    "id": "iMhHyiyLM2I3"
   },
   "outputs": [],
   "source": [
    "#FILL IN - Inspecting the dataframe visually\n"
   ]
  },
  {
   "cell_type": "code",
   "execution_count": 37,
   "metadata": {
    "id": "bnviRCUI-bb7"
   },
   "outputs": [],
   "source": [
    "#FILL IN - Inspecting the dataframe programmatically\n"
   ]
  },
  {
   "cell_type": "markdown",
   "metadata": {},
   "source": [
    "Issue and justification: *FILL IN*"
   ]
  },
  {
   "cell_type": "markdown",
   "metadata": {
    "id": "lXhGiYyiwwKN"
   },
   "source": [
    "### Tidiness Issue 1:"
   ]
  },
  {
   "cell_type": "code",
   "execution_count": 38,
   "metadata": {
    "id": "fleC5rORI0Xl"
   },
   "outputs": [],
   "source": [
    "#FILL IN - Inspecting the dataframe visually\n"
   ]
  },
  {
   "cell_type": "code",
   "execution_count": 59,
   "metadata": {
    "id": "BTuQw7Rbsio4"
   },
   "outputs": [
    {
     "data": {
      "text/plain": [
       "dtype('float64')"
      ]
     },
     "execution_count": 59,
     "metadata": {},
     "output_type": "execute_result"
    }
   ],
   "source": [
    "#FILL IN - Inspecting the dataframe programmatically\n",
    "df.dtypes"
   ]
  },
  {
   "cell_type": "markdown",
   "metadata": {},
   "source": [
    "Issue and justification: *FILL IN*"
   ]
  },
  {
   "cell_type": "markdown",
   "metadata": {
    "id": "4ffMoRGSwzYj"
   },
   "source": [
    "### Tidiness Issue 2: "
   ]
  },
  {
   "cell_type": "code",
   "execution_count": 40,
   "metadata": {
    "id": "XUpeoqokw5Qt"
   },
   "outputs": [],
   "source": [
    "#FILL IN - Inspecting the dataframe visually"
   ]
  },
  {
   "cell_type": "code",
   "execution_count": 41,
   "metadata": {
    "id": "c8JK4DoXxtFA"
   },
   "outputs": [],
   "source": [
    "#FILL IN - Inspecting the dataframe programmatically"
   ]
  },
  {
   "cell_type": "markdown",
   "metadata": {},
   "source": [
    "Issue and justification: *FILL IN*"
   ]
  },
  {
   "cell_type": "markdown",
   "metadata": {
    "id": "D6gmLnBttpCh"
   },
   "source": [
    "## 3. Clean data\n",
    "Clean the data to solve the 4 issues corresponding to data quality and tidiness found in the assessing step. **Make sure you include justifications for your cleaning decisions.**\n",
    "\n",
    "After the cleaning for each issue, please use **either** the visually or programatical method to validate the cleaning was succesful.\n",
    "\n",
    "At this stage, you are also expected to remove variables that are unnecessary for your analysis and combine your datasets. Depending on your datasets, you may choose to perform variable combination and elimination before or after the cleaning stage. Your dataset must have **at least** 4 variables after combining the data."
   ]
  },
  {
   "cell_type": "code",
   "execution_count": 42,
   "metadata": {},
   "outputs": [],
   "source": [
    "# FILL IN - Make copies of the datasets to ensure the raw dataframes \n",
    "# are not impacted"
   ]
  },
  {
   "cell_type": "markdown",
   "metadata": {
    "id": "FmFhN52Yyn3l"
   },
   "source": [
    "### **Quality Issue 1: Setting the right Columns"
   ]
  },
  {
   "cell_type": "code",
   "execution_count": 43,
   "metadata": {
    "id": "9UejDWrNMW4a"
   },
   "outputs": [],
   "source": [
    "# FILL IN - Apply the cleaning strategy\n",
    "df.rename(columns=df.iloc[1], inplace=True)\n",
    "df.drop([0,1], inplace=True)\n"
   ]
  },
  {
   "cell_type": "code",
   "execution_count": 44,
   "metadata": {
    "id": "oUBee-LPytkv"
   },
   "outputs": [
    {
     "data": {
      "text/html": [
       "<div>\n",
       "<style scoped>\n",
       "    .dataframe tbody tr th:only-of-type {\n",
       "        vertical-align: middle;\n",
       "    }\n",
       "\n",
       "    .dataframe tbody tr th {\n",
       "        vertical-align: top;\n",
       "    }\n",
       "\n",
       "    .dataframe thead th {\n",
       "        text-align: right;\n",
       "    }\n",
       "</style>\n",
       "<table border=\"1\" class=\"dataframe\">\n",
       "  <thead>\n",
       "    <tr style=\"text-align: right;\">\n",
       "      <th></th>\n",
       "      <th>time</th>\n",
       "      <th>DE11</th>\n",
       "      <th>DE12</th>\n",
       "      <th>DE13</th>\n",
       "      <th>DE14</th>\n",
       "      <th>DE21</th>\n",
       "      <th>DE22</th>\n",
       "      <th>DE23</th>\n",
       "      <th>DE24</th>\n",
       "      <th>DE25</th>\n",
       "      <th>...</th>\n",
       "      <th>DEB2</th>\n",
       "      <th>DEB3</th>\n",
       "      <th>DEC0</th>\n",
       "      <th>DED2</th>\n",
       "      <th>DED4</th>\n",
       "      <th>DED5</th>\n",
       "      <th>DEE0</th>\n",
       "      <th>DEF0</th>\n",
       "      <th>DEG0</th>\n",
       "      <th>DE_TOTAL</th>\n",
       "    </tr>\n",
       "  </thead>\n",
       "  <tbody>\n",
       "    <tr>\n",
       "      <th>2</th>\n",
       "      <td>1980-01-01 00:00:00</td>\n",
       "      <td>0.3095</td>\n",
       "      <td>0.2976</td>\n",
       "      <td>0.1413</td>\n",
       "      <td>0.396</td>\n",
       "      <td>0.4268</td>\n",
       "      <td>0.3764</td>\n",
       "      <td>0.3452</td>\n",
       "      <td>0.2439</td>\n",
       "      <td>0.3468</td>\n",
       "      <td>...</td>\n",
       "      <td>0.2071</td>\n",
       "      <td>0.2788</td>\n",
       "      <td>0.1693</td>\n",
       "      <td>0.4048</td>\n",
       "      <td>0.3638</td>\n",
       "      <td>0.4305</td>\n",
       "      <td>0.3365</td>\n",
       "      <td>0.0175</td>\n",
       "      <td>0.3233</td>\n",
       "      <td>0.2561</td>\n",
       "    </tr>\n",
       "    <tr>\n",
       "      <th>3</th>\n",
       "      <td>1980-01-01 01:00:00</td>\n",
       "      <td>0.2973</td>\n",
       "      <td>0.2679</td>\n",
       "      <td>0.108</td>\n",
       "      <td>0.3758</td>\n",
       "      <td>0.4875</td>\n",
       "      <td>0.39</td>\n",
       "      <td>0.3714</td>\n",
       "      <td>0.2719</td>\n",
       "      <td>0.4085</td>\n",
       "      <td>...</td>\n",
       "      <td>0.1792</td>\n",
       "      <td>0.2371</td>\n",
       "      <td>0.161</td>\n",
       "      <td>0.4302</td>\n",
       "      <td>0.3025</td>\n",
       "      <td>0.3668</td>\n",
       "      <td>0.3284</td>\n",
       "      <td>0.0236</td>\n",
       "      <td>0.3143</td>\n",
       "      <td>0.2547</td>\n",
       "    </tr>\n",
       "    <tr>\n",
       "      <th>4</th>\n",
       "      <td>1980-01-01 02:00:00</td>\n",
       "      <td>0.3347</td>\n",
       "      <td>0.2664</td>\n",
       "      <td>0.1025</td>\n",
       "      <td>0.3826</td>\n",
       "      <td>0.5073</td>\n",
       "      <td>0.4446</td>\n",
       "      <td>0.4002</td>\n",
       "      <td>0.2992</td>\n",
       "      <td>0.4276</td>\n",
       "      <td>...</td>\n",
       "      <td>0.1981</td>\n",
       "      <td>0.2072</td>\n",
       "      <td>0.1721</td>\n",
       "      <td>0.3462</td>\n",
       "      <td>0.2959</td>\n",
       "      <td>0.35</td>\n",
       "      <td>0.319</td>\n",
       "      <td>0.0315</td>\n",
       "      <td>0.3273</td>\n",
       "      <td>0.2426</td>\n",
       "    </tr>\n",
       "    <tr>\n",
       "      <th>5</th>\n",
       "      <td>1980-01-01 03:00:00</td>\n",
       "      <td>0.344</td>\n",
       "      <td>0.2764</td>\n",
       "      <td>0.0995</td>\n",
       "      <td>0.3909</td>\n",
       "      <td>0.5074</td>\n",
       "      <td>0.4321</td>\n",
       "      <td>0.4107</td>\n",
       "      <td>0.3193</td>\n",
       "      <td>0.4299</td>\n",
       "      <td>...</td>\n",
       "      <td>0.1622</td>\n",
       "      <td>0.219</td>\n",
       "      <td>0.1424</td>\n",
       "      <td>0.352</td>\n",
       "      <td>0.2938</td>\n",
       "      <td>0.3512</td>\n",
       "      <td>0.289</td>\n",
       "      <td>0.0446</td>\n",
       "      <td>0.3553</td>\n",
       "      <td>0.2351</td>\n",
       "    </tr>\n",
       "    <tr>\n",
       "      <th>6</th>\n",
       "      <td>1980-01-01 04:00:00</td>\n",
       "      <td>0.3153</td>\n",
       "      <td>0.2619</td>\n",
       "      <td>0.0942</td>\n",
       "      <td>0.39</td>\n",
       "      <td>0.4734</td>\n",
       "      <td>0.3904</td>\n",
       "      <td>0.4257</td>\n",
       "      <td>0.3424</td>\n",
       "      <td>0.4137</td>\n",
       "      <td>...</td>\n",
       "      <td>0.1568</td>\n",
       "      <td>0.2234</td>\n",
       "      <td>0.1471</td>\n",
       "      <td>0.4035</td>\n",
       "      <td>0.2929</td>\n",
       "      <td>0.3642</td>\n",
       "      <td>0.2768</td>\n",
       "      <td>0.0735</td>\n",
       "      <td>0.3689</td>\n",
       "      <td>0.2339</td>\n",
       "    </tr>\n",
       "  </tbody>\n",
       "</table>\n",
       "<p>5 rows × 40 columns</p>\n",
       "</div>"
      ],
      "text/plain": [
       "                  time    DE11    DE12    DE13    DE14    DE21    DE22  \\\n",
       "2  1980-01-01 00:00:00  0.3095  0.2976  0.1413   0.396  0.4268  0.3764   \n",
       "3  1980-01-01 01:00:00  0.2973  0.2679   0.108  0.3758  0.4875    0.39   \n",
       "4  1980-01-01 02:00:00  0.3347  0.2664  0.1025  0.3826  0.5073  0.4446   \n",
       "5  1980-01-01 03:00:00   0.344  0.2764  0.0995  0.3909  0.5074  0.4321   \n",
       "6  1980-01-01 04:00:00  0.3153  0.2619  0.0942    0.39  0.4734  0.3904   \n",
       "\n",
       "     DE23    DE24    DE25  ...    DEB2    DEB3    DEC0    DED2    DED4  \\\n",
       "2  0.3452  0.2439  0.3468  ...  0.2071  0.2788  0.1693  0.4048  0.3638   \n",
       "3  0.3714  0.2719  0.4085  ...  0.1792  0.2371   0.161  0.4302  0.3025   \n",
       "4  0.4002  0.2992  0.4276  ...  0.1981  0.2072  0.1721  0.3462  0.2959   \n",
       "5  0.4107  0.3193  0.4299  ...  0.1622   0.219  0.1424   0.352  0.2938   \n",
       "6  0.4257  0.3424  0.4137  ...  0.1568  0.2234  0.1471  0.4035  0.2929   \n",
       "\n",
       "     DED5    DEE0    DEF0    DEG0 DE_TOTAL  \n",
       "2  0.4305  0.3365  0.0175  0.3233   0.2561  \n",
       "3  0.3668  0.3284  0.0236  0.3143   0.2547  \n",
       "4    0.35   0.319  0.0315  0.3273   0.2426  \n",
       "5  0.3512   0.289  0.0446  0.3553   0.2351  \n",
       "6  0.3642  0.2768  0.0735  0.3689   0.2339  \n",
       "\n",
       "[5 rows x 40 columns]"
      ]
     },
     "execution_count": 44,
     "metadata": {},
     "output_type": "execute_result"
    }
   ],
   "source": [
    "# FILL IN - Validate the cleaning was successful\n",
    "df.head(5)"
   ]
  },
  {
   "cell_type": "markdown",
   "metadata": {},
   "source": [
    "Justification: *FILL IN*"
   ]
  },
  {
   "cell_type": "markdown",
   "metadata": {},
   "source": [
    "Justification: *FILL IN*"
   ]
  },
  {
   "cell_type": "markdown",
   "metadata": {
    "id": "bIUrrfSNyOPR"
   },
   "source": [
    "### **Tidiness Issue 1: Setting correct Index**"
   ]
  },
  {
   "cell_type": "code",
   "execution_count": 45,
   "metadata": {
    "id": "fib0zAm333bn"
   },
   "outputs": [],
   "source": [
    "#FILL IN - Apply the cleaning strategy\n",
    "df['time'] = pd.DatetimeIndex(df['time']) # Cast as DatetimeIndex\n",
    "df.set_index('time', inplace=True) # Set as time Index for Dataframe"
   ]
  },
  {
   "cell_type": "code",
   "execution_count": 46,
   "metadata": {
    "id": "yhrnUGY_Nk8B"
   },
   "outputs": [
    {
     "data": {
      "text/plain": [
       "DatetimeIndex(['1980-01-01 00:00:00', '1980-01-01 01:00:00',\n",
       "               '1980-01-01 02:00:00', '1980-01-01 03:00:00',\n",
       "               '1980-01-01 04:00:00', '1980-01-01 05:00:00',\n",
       "               '1980-01-01 06:00:00', '1980-01-01 07:00:00',\n",
       "               '1980-01-01 08:00:00', '1980-01-01 09:00:00',\n",
       "               ...\n",
       "               '2019-12-31 14:00:00', '2019-12-31 15:00:00',\n",
       "               '2019-12-31 16:00:00', '2019-12-31 17:00:00',\n",
       "               '2019-12-31 18:00:00', '2019-12-31 19:00:00',\n",
       "               '2019-12-31 20:00:00', '2019-12-31 21:00:00',\n",
       "               '2019-12-31 22:00:00', '2019-12-31 23:00:00'],\n",
       "              dtype='datetime64[ns]', name='time', length=350640, freq=None)"
      ]
     },
     "execution_count": 46,
     "metadata": {},
     "output_type": "execute_result"
    }
   ],
   "source": [
    "#FILL IN - Validate the cleaning was successful\n",
    "df.index"
   ]
  },
  {
   "cell_type": "markdown",
   "metadata": {},
   "source": [
    "Justification: *FILL IN*"
   ]
  },
  {
   "cell_type": "markdown",
   "metadata": {
    "id": "n_DAUbJrymBL"
   },
   "source": [
    "### **Quality Issue 2: Setting the correct data type**"
   ]
  },
  {
   "cell_type": "code",
   "execution_count": 79,
   "metadata": {
    "id": "5Yfb-Yu5MTuE"
   },
   "outputs": [
    {
     "ename": "ValueError",
     "evalue": "could not convert string to float: '# Units: time in UTC, other columns are capacity factors [0-1]. Current farms, with offshore farms inclued in closest NUTS zone. Bias corrected using national generation data.'",
     "output_type": "error",
     "traceback": [
      "\u001b[1;31m---------------------------------------------------------------------------\u001b[0m",
      "\u001b[1;31mValueError\u001b[0m                                Traceback (most recent call last)",
      "\u001b[1;32m~\\AppData\\Local\\Temp\\ipykernel_28324\\2621620537.py\u001b[0m in \u001b[0;36m<cell line: 2>\u001b[1;34m()\u001b[0m\n\u001b[0;32m      1\u001b[0m \u001b[1;31m#FILL IN - Apply the cleaning strategy\u001b[0m\u001b[1;33m\u001b[0m\u001b[1;33m\u001b[0m\u001b[0m\n\u001b[1;32m----> 2\u001b[1;33m \u001b[0mdf\u001b[0m \u001b[1;33m=\u001b[0m \u001b[0mdf\u001b[0m\u001b[1;33m.\u001b[0m\u001b[0mastype\u001b[0m\u001b[1;33m(\u001b[0m\u001b[0mfloat\u001b[0m\u001b[1;33m)\u001b[0m\u001b[1;33m\u001b[0m\u001b[1;33m\u001b[0m\u001b[0m\n\u001b[0m",
      "\u001b[1;32m~\\Miniconda3\\envs\\digital_twin\\lib\\site-packages\\pandas\\core\\generic.py\u001b[0m in \u001b[0;36mastype\u001b[1;34m(self, dtype, copy, errors)\u001b[0m\n\u001b[0;32m   6243\u001b[0m         \u001b[1;32melse\u001b[0m\u001b[1;33m:\u001b[0m\u001b[1;33m\u001b[0m\u001b[1;33m\u001b[0m\u001b[0m\n\u001b[0;32m   6244\u001b[0m             \u001b[1;31m# else, only a single dtype is given\u001b[0m\u001b[1;33m\u001b[0m\u001b[1;33m\u001b[0m\u001b[0m\n\u001b[1;32m-> 6245\u001b[1;33m             \u001b[0mnew_data\u001b[0m \u001b[1;33m=\u001b[0m \u001b[0mself\u001b[0m\u001b[1;33m.\u001b[0m\u001b[0m_mgr\u001b[0m\u001b[1;33m.\u001b[0m\u001b[0mastype\u001b[0m\u001b[1;33m(\u001b[0m\u001b[0mdtype\u001b[0m\u001b[1;33m=\u001b[0m\u001b[0mdtype\u001b[0m\u001b[1;33m,\u001b[0m \u001b[0mcopy\u001b[0m\u001b[1;33m=\u001b[0m\u001b[0mcopy\u001b[0m\u001b[1;33m,\u001b[0m \u001b[0merrors\u001b[0m\u001b[1;33m=\u001b[0m\u001b[0merrors\u001b[0m\u001b[1;33m)\u001b[0m\u001b[1;33m\u001b[0m\u001b[1;33m\u001b[0m\u001b[0m\n\u001b[0m\u001b[0;32m   6246\u001b[0m             \u001b[1;32mreturn\u001b[0m \u001b[0mself\u001b[0m\u001b[1;33m.\u001b[0m\u001b[0m_constructor\u001b[0m\u001b[1;33m(\u001b[0m\u001b[0mnew_data\u001b[0m\u001b[1;33m)\u001b[0m\u001b[1;33m.\u001b[0m\u001b[0m__finalize__\u001b[0m\u001b[1;33m(\u001b[0m\u001b[0mself\u001b[0m\u001b[1;33m,\u001b[0m \u001b[0mmethod\u001b[0m\u001b[1;33m=\u001b[0m\u001b[1;34m\"astype\"\u001b[0m\u001b[1;33m)\u001b[0m\u001b[1;33m\u001b[0m\u001b[1;33m\u001b[0m\u001b[0m\n\u001b[0;32m   6247\u001b[0m \u001b[1;33m\u001b[0m\u001b[0m\n",
      "\u001b[1;32m~\\Miniconda3\\envs\\digital_twin\\lib\\site-packages\\pandas\\core\\internals\\managers.py\u001b[0m in \u001b[0;36mastype\u001b[1;34m(self, dtype, copy, errors)\u001b[0m\n\u001b[0;32m    444\u001b[0m \u001b[1;33m\u001b[0m\u001b[0m\n\u001b[0;32m    445\u001b[0m     \u001b[1;32mdef\u001b[0m \u001b[0mastype\u001b[0m\u001b[1;33m(\u001b[0m\u001b[0mself\u001b[0m\u001b[1;33m:\u001b[0m \u001b[0mT\u001b[0m\u001b[1;33m,\u001b[0m \u001b[0mdtype\u001b[0m\u001b[1;33m,\u001b[0m \u001b[0mcopy\u001b[0m\u001b[1;33m:\u001b[0m \u001b[0mbool\u001b[0m \u001b[1;33m=\u001b[0m \u001b[1;32mFalse\u001b[0m\u001b[1;33m,\u001b[0m \u001b[0merrors\u001b[0m\u001b[1;33m:\u001b[0m \u001b[0mstr\u001b[0m \u001b[1;33m=\u001b[0m \u001b[1;34m\"raise\"\u001b[0m\u001b[1;33m)\u001b[0m \u001b[1;33m->\u001b[0m \u001b[0mT\u001b[0m\u001b[1;33m:\u001b[0m\u001b[1;33m\u001b[0m\u001b[1;33m\u001b[0m\u001b[0m\n\u001b[1;32m--> 446\u001b[1;33m         \u001b[1;32mreturn\u001b[0m \u001b[0mself\u001b[0m\u001b[1;33m.\u001b[0m\u001b[0mapply\u001b[0m\u001b[1;33m(\u001b[0m\u001b[1;34m\"astype\"\u001b[0m\u001b[1;33m,\u001b[0m \u001b[0mdtype\u001b[0m\u001b[1;33m=\u001b[0m\u001b[0mdtype\u001b[0m\u001b[1;33m,\u001b[0m \u001b[0mcopy\u001b[0m\u001b[1;33m=\u001b[0m\u001b[0mcopy\u001b[0m\u001b[1;33m,\u001b[0m \u001b[0merrors\u001b[0m\u001b[1;33m=\u001b[0m\u001b[0merrors\u001b[0m\u001b[1;33m)\u001b[0m\u001b[1;33m\u001b[0m\u001b[1;33m\u001b[0m\u001b[0m\n\u001b[0m\u001b[0;32m    447\u001b[0m \u001b[1;33m\u001b[0m\u001b[0m\n\u001b[0;32m    448\u001b[0m     def convert(\n",
      "\u001b[1;32m~\\Miniconda3\\envs\\digital_twin\\lib\\site-packages\\pandas\\core\\internals\\managers.py\u001b[0m in \u001b[0;36mapply\u001b[1;34m(self, f, align_keys, ignore_failures, **kwargs)\u001b[0m\n\u001b[0;32m    346\u001b[0m                     \u001b[0mapplied\u001b[0m \u001b[1;33m=\u001b[0m \u001b[0mb\u001b[0m\u001b[1;33m.\u001b[0m\u001b[0mapply\u001b[0m\u001b[1;33m(\u001b[0m\u001b[0mf\u001b[0m\u001b[1;33m,\u001b[0m \u001b[1;33m**\u001b[0m\u001b[0mkwargs\u001b[0m\u001b[1;33m)\u001b[0m\u001b[1;33m\u001b[0m\u001b[1;33m\u001b[0m\u001b[0m\n\u001b[0;32m    347\u001b[0m                 \u001b[1;32melse\u001b[0m\u001b[1;33m:\u001b[0m\u001b[1;33m\u001b[0m\u001b[1;33m\u001b[0m\u001b[0m\n\u001b[1;32m--> 348\u001b[1;33m                     \u001b[0mapplied\u001b[0m \u001b[1;33m=\u001b[0m \u001b[0mgetattr\u001b[0m\u001b[1;33m(\u001b[0m\u001b[0mb\u001b[0m\u001b[1;33m,\u001b[0m \u001b[0mf\u001b[0m\u001b[1;33m)\u001b[0m\u001b[1;33m(\u001b[0m\u001b[1;33m**\u001b[0m\u001b[0mkwargs\u001b[0m\u001b[1;33m)\u001b[0m\u001b[1;33m\u001b[0m\u001b[1;33m\u001b[0m\u001b[0m\n\u001b[0m\u001b[0;32m    349\u001b[0m             \u001b[1;32mexcept\u001b[0m \u001b[1;33m(\u001b[0m\u001b[0mTypeError\u001b[0m\u001b[1;33m,\u001b[0m \u001b[0mNotImplementedError\u001b[0m\u001b[1;33m)\u001b[0m\u001b[1;33m:\u001b[0m\u001b[1;33m\u001b[0m\u001b[1;33m\u001b[0m\u001b[0m\n\u001b[0;32m    350\u001b[0m                 \u001b[1;32mif\u001b[0m \u001b[1;32mnot\u001b[0m \u001b[0mignore_failures\u001b[0m\u001b[1;33m:\u001b[0m\u001b[1;33m\u001b[0m\u001b[1;33m\u001b[0m\u001b[0m\n",
      "\u001b[1;32m~\\Miniconda3\\envs\\digital_twin\\lib\\site-packages\\pandas\\core\\internals\\blocks.py\u001b[0m in \u001b[0;36mastype\u001b[1;34m(self, dtype, copy, errors)\u001b[0m\n\u001b[0;32m    525\u001b[0m         \u001b[0mvalues\u001b[0m \u001b[1;33m=\u001b[0m \u001b[0mself\u001b[0m\u001b[1;33m.\u001b[0m\u001b[0mvalues\u001b[0m\u001b[1;33m\u001b[0m\u001b[1;33m\u001b[0m\u001b[0m\n\u001b[0;32m    526\u001b[0m \u001b[1;33m\u001b[0m\u001b[0m\n\u001b[1;32m--> 527\u001b[1;33m         \u001b[0mnew_values\u001b[0m \u001b[1;33m=\u001b[0m \u001b[0mastype_array_safe\u001b[0m\u001b[1;33m(\u001b[0m\u001b[0mvalues\u001b[0m\u001b[1;33m,\u001b[0m \u001b[0mdtype\u001b[0m\u001b[1;33m,\u001b[0m \u001b[0mcopy\u001b[0m\u001b[1;33m=\u001b[0m\u001b[0mcopy\u001b[0m\u001b[1;33m,\u001b[0m \u001b[0merrors\u001b[0m\u001b[1;33m=\u001b[0m\u001b[0merrors\u001b[0m\u001b[1;33m)\u001b[0m\u001b[1;33m\u001b[0m\u001b[1;33m\u001b[0m\u001b[0m\n\u001b[0m\u001b[0;32m    528\u001b[0m \u001b[1;33m\u001b[0m\u001b[0m\n\u001b[0;32m    529\u001b[0m         \u001b[0mnew_values\u001b[0m \u001b[1;33m=\u001b[0m \u001b[0mmaybe_coerce_values\u001b[0m\u001b[1;33m(\u001b[0m\u001b[0mnew_values\u001b[0m\u001b[1;33m)\u001b[0m\u001b[1;33m\u001b[0m\u001b[1;33m\u001b[0m\u001b[0m\n",
      "\u001b[1;32m~\\Miniconda3\\envs\\digital_twin\\lib\\site-packages\\pandas\\core\\dtypes\\astype.py\u001b[0m in \u001b[0;36mastype_array_safe\u001b[1;34m(values, dtype, copy, errors)\u001b[0m\n\u001b[0;32m    297\u001b[0m \u001b[1;33m\u001b[0m\u001b[0m\n\u001b[0;32m    298\u001b[0m     \u001b[1;32mtry\u001b[0m\u001b[1;33m:\u001b[0m\u001b[1;33m\u001b[0m\u001b[1;33m\u001b[0m\u001b[0m\n\u001b[1;32m--> 299\u001b[1;33m         \u001b[0mnew_values\u001b[0m \u001b[1;33m=\u001b[0m \u001b[0mastype_array\u001b[0m\u001b[1;33m(\u001b[0m\u001b[0mvalues\u001b[0m\u001b[1;33m,\u001b[0m \u001b[0mdtype\u001b[0m\u001b[1;33m,\u001b[0m \u001b[0mcopy\u001b[0m\u001b[1;33m=\u001b[0m\u001b[0mcopy\u001b[0m\u001b[1;33m)\u001b[0m\u001b[1;33m\u001b[0m\u001b[1;33m\u001b[0m\u001b[0m\n\u001b[0m\u001b[0;32m    300\u001b[0m     \u001b[1;32mexcept\u001b[0m \u001b[1;33m(\u001b[0m\u001b[0mValueError\u001b[0m\u001b[1;33m,\u001b[0m \u001b[0mTypeError\u001b[0m\u001b[1;33m)\u001b[0m\u001b[1;33m:\u001b[0m\u001b[1;33m\u001b[0m\u001b[1;33m\u001b[0m\u001b[0m\n\u001b[0;32m    301\u001b[0m         \u001b[1;31m# e.g. astype_nansafe can fail on object-dtype of strings\u001b[0m\u001b[1;33m\u001b[0m\u001b[1;33m\u001b[0m\u001b[0m\n",
      "\u001b[1;32m~\\Miniconda3\\envs\\digital_twin\\lib\\site-packages\\pandas\\core\\dtypes\\astype.py\u001b[0m in \u001b[0;36mastype_array\u001b[1;34m(values, dtype, copy)\u001b[0m\n\u001b[0;32m    228\u001b[0m \u001b[1;33m\u001b[0m\u001b[0m\n\u001b[0;32m    229\u001b[0m     \u001b[1;32melse\u001b[0m\u001b[1;33m:\u001b[0m\u001b[1;33m\u001b[0m\u001b[1;33m\u001b[0m\u001b[0m\n\u001b[1;32m--> 230\u001b[1;33m         \u001b[0mvalues\u001b[0m \u001b[1;33m=\u001b[0m \u001b[0mastype_nansafe\u001b[0m\u001b[1;33m(\u001b[0m\u001b[0mvalues\u001b[0m\u001b[1;33m,\u001b[0m \u001b[0mdtype\u001b[0m\u001b[1;33m,\u001b[0m \u001b[0mcopy\u001b[0m\u001b[1;33m=\u001b[0m\u001b[0mcopy\u001b[0m\u001b[1;33m)\u001b[0m\u001b[1;33m\u001b[0m\u001b[1;33m\u001b[0m\u001b[0m\n\u001b[0m\u001b[0;32m    231\u001b[0m \u001b[1;33m\u001b[0m\u001b[0m\n\u001b[0;32m    232\u001b[0m     \u001b[1;31m# in pandas we don't store numpy str dtypes, so convert to object\u001b[0m\u001b[1;33m\u001b[0m\u001b[1;33m\u001b[0m\u001b[0m\n",
      "\u001b[1;32m~\\Miniconda3\\envs\\digital_twin\\lib\\site-packages\\pandas\\core\\dtypes\\astype.py\u001b[0m in \u001b[0;36mastype_nansafe\u001b[1;34m(arr, dtype, copy, skipna)\u001b[0m\n\u001b[0;32m    168\u001b[0m     \u001b[1;32mif\u001b[0m \u001b[0mcopy\u001b[0m \u001b[1;32mor\u001b[0m \u001b[0mis_object_dtype\u001b[0m\u001b[1;33m(\u001b[0m\u001b[0marr\u001b[0m\u001b[1;33m.\u001b[0m\u001b[0mdtype\u001b[0m\u001b[1;33m)\u001b[0m \u001b[1;32mor\u001b[0m \u001b[0mis_object_dtype\u001b[0m\u001b[1;33m(\u001b[0m\u001b[0mdtype\u001b[0m\u001b[1;33m)\u001b[0m\u001b[1;33m:\u001b[0m\u001b[1;33m\u001b[0m\u001b[1;33m\u001b[0m\u001b[0m\n\u001b[0;32m    169\u001b[0m         \u001b[1;31m# Explicit copy, or required since NumPy can't view from / to object.\u001b[0m\u001b[1;33m\u001b[0m\u001b[1;33m\u001b[0m\u001b[0m\n\u001b[1;32m--> 170\u001b[1;33m         \u001b[1;32mreturn\u001b[0m \u001b[0marr\u001b[0m\u001b[1;33m.\u001b[0m\u001b[0mastype\u001b[0m\u001b[1;33m(\u001b[0m\u001b[0mdtype\u001b[0m\u001b[1;33m,\u001b[0m \u001b[0mcopy\u001b[0m\u001b[1;33m=\u001b[0m\u001b[1;32mTrue\u001b[0m\u001b[1;33m)\u001b[0m\u001b[1;33m\u001b[0m\u001b[1;33m\u001b[0m\u001b[0m\n\u001b[0m\u001b[0;32m    171\u001b[0m \u001b[1;33m\u001b[0m\u001b[0m\n\u001b[0;32m    172\u001b[0m     \u001b[1;32mreturn\u001b[0m \u001b[0marr\u001b[0m\u001b[1;33m.\u001b[0m\u001b[0mastype\u001b[0m\u001b[1;33m(\u001b[0m\u001b[0mdtype\u001b[0m\u001b[1;33m,\u001b[0m \u001b[0mcopy\u001b[0m\u001b[1;33m=\u001b[0m\u001b[0mcopy\u001b[0m\u001b[1;33m)\u001b[0m\u001b[1;33m\u001b[0m\u001b[1;33m\u001b[0m\u001b[0m\n",
      "\u001b[1;31mValueError\u001b[0m: could not convert string to float: '# Units: time in UTC, other columns are capacity factors [0-1]. Current farms, with offshore farms inclued in closest NUTS zone. Bias corrected using national generation data.'"
     ]
    }
   ],
   "source": [
    "#FILL IN - Apply the cleaning strategy\n",
    "df = df.astype(float)"
   ]
  },
  {
   "cell_type": "code",
   "execution_count": 61,
   "metadata": {
    "id": "ionB2sRaMUmY"
   },
   "outputs": [
    {
     "data": {
      "text/plain": [
       "time\n",
       "1980-01-01 00:00:00    0.2561\n",
       "1980-01-01 01:00:00    0.2547\n",
       "1980-01-01 02:00:00    0.2426\n",
       "1980-01-01 03:00:00    0.2351\n",
       "1980-01-01 04:00:00    0.2339\n",
       "                        ...  \n",
       "2019-12-31 19:00:00    0.1103\n",
       "2019-12-31 20:00:00    0.0921\n",
       "2019-12-31 21:00:00    0.0808\n",
       "2019-12-31 22:00:00    0.0722\n",
       "2019-12-31 23:00:00    0.0690\n",
       "Name: DE_TOTAL, Length: 350640, dtype: float64"
      ]
     },
     "execution_count": 61,
     "metadata": {},
     "output_type": "execute_result"
    }
   ],
   "source": [
    "#FILL IN - Validate the cleaning was successful\n",
    "df.head(5)"
   ]
  },
  {
   "cell_type": "code",
   "execution_count": 78,
   "metadata": {},
   "outputs": [
    {
     "data": {
      "text/plain": [
       "# Renewables.ninja Wind (NUTS-2 hourly data, 1980-2019) - ninja_wind_country_DE_merra-2_nuts-2_corrected - Version: 1.3 - License: https://creativecommons.org/licenses/by-nc/4.0/ - Reference: https://doi.org/10.1016/j.energy.2019.08.060    object\n",
       "Unnamed: 1                                                                                                                                                                                                                                      object\n",
       "Unnamed: 2                                                                                                                                                                                                                                      object\n",
       "Unnamed: 3                                                                                                                                                                                                                                      object\n",
       "Unnamed: 4                                                                                                                                                                                                                                      object\n",
       "Unnamed: 5                                                                                                                                                                                                                                      object\n",
       "Unnamed: 6                                                                                                                                                                                                                                      object\n",
       "Unnamed: 7                                                                                                                                                                                                                                      object\n",
       "Unnamed: 8                                                                                                                                                                                                                                      object\n",
       "Unnamed: 9                                                                                                                                                                                                                                      object\n",
       "Unnamed: 10                                                                                                                                                                                                                                     object\n",
       "Unnamed: 11                                                                                                                                                                                                                                     object\n",
       "Unnamed: 12                                                                                                                                                                                                                                     object\n",
       "Unnamed: 13                                                                                                                                                                                                                                     object\n",
       "Unnamed: 14                                                                                                                                                                                                                                     object\n",
       "Unnamed: 15                                                                                                                                                                                                                                     object\n",
       "Unnamed: 16                                                                                                                                                                                                                                     object\n",
       "Unnamed: 17                                                                                                                                                                                                                                     object\n",
       "Unnamed: 18                                                                                                                                                                                                                                     object\n",
       "Unnamed: 19                                                                                                                                                                                                                                     object\n",
       "Unnamed: 20                                                                                                                                                                                                                                     object\n",
       "Unnamed: 21                                                                                                                                                                                                                                     object\n",
       "Unnamed: 22                                                                                                                                                                                                                                     object\n",
       "Unnamed: 23                                                                                                                                                                                                                                     object\n",
       "Unnamed: 24                                                                                                                                                                                                                                     object\n",
       "Unnamed: 25                                                                                                                                                                                                                                     object\n",
       "Unnamed: 26                                                                                                                                                                                                                                     object\n",
       "Unnamed: 27                                                                                                                                                                                                                                     object\n",
       "Unnamed: 28                                                                                                                                                                                                                                     object\n",
       "Unnamed: 29                                                                                                                                                                                                                                     object\n",
       "Unnamed: 30                                                                                                                                                                                                                                     object\n",
       "Unnamed: 31                                                                                                                                                                                                                                     object\n",
       "Unnamed: 32                                                                                                                                                                                                                                     object\n",
       "Unnamed: 33                                                                                                                                                                                                                                     object\n",
       "Unnamed: 34                                                                                                                                                                                                                                     object\n",
       "Unnamed: 35                                                                                                                                                                                                                                     object\n",
       "Unnamed: 36                                                                                                                                                                                                                                     object\n",
       "Unnamed: 37                                                                                                                                                                                                                                     object\n",
       "Unnamed: 38                                                                                                                                                                                                                                     object\n",
       "Unnamed: 39                                                                                                                                                                                                                                     object\n",
       "dtype: object"
      ]
     },
     "execution_count": 78,
     "metadata": {},
     "output_type": "execute_result"
    }
   ],
   "source": [
    "df.dtypes"
   ]
  },
  {
   "cell_type": "markdown",
   "metadata": {
    "id": "o51Bt8kwyTzk"
   },
   "source": [
    "### **Tidiness Issue 2: FILL IN**"
   ]
  },
  {
   "cell_type": "code",
   "execution_count": 50,
   "metadata": {
    "id": "7zW8O5yx4Y9O"
   },
   "outputs": [],
   "source": [
    "#FILL IN - Apply the cleaning strategy"
   ]
  },
  {
   "cell_type": "code",
   "execution_count": 51,
   "metadata": {
    "id": "q6I_Sr7lxXi5"
   },
   "outputs": [],
   "source": [
    "#FILL IN - Validate the cleaning was successful"
   ]
  },
  {
   "cell_type": "markdown",
   "metadata": {},
   "source": [
    "Justification: *FILL IN*"
   ]
  },
  {
   "cell_type": "markdown",
   "metadata": {},
   "source": [
    "### **Remove unnecessary variables and combine datasets**\n",
    "\n",
    "Depending on the datasets, you can also peform the combination before the cleaning steps."
   ]
  },
  {
   "cell_type": "code",
   "execution_count": 52,
   "metadata": {},
   "outputs": [
    {
     "data": {
      "text/plain": [
       "time\n",
       "1980-01-01 00:00:00    0.2561\n",
       "1980-01-01 01:00:00    0.2547\n",
       "1980-01-01 02:00:00    0.2426\n",
       "1980-01-01 03:00:00    0.2351\n",
       "1980-01-01 04:00:00    0.2339\n",
       "                        ...  \n",
       "2019-12-31 19:00:00    0.1103\n",
       "2019-12-31 20:00:00    0.0921\n",
       "2019-12-31 21:00:00    0.0808\n",
       "2019-12-31 22:00:00    0.0722\n",
       "2019-12-31 23:00:00    0.0690\n",
       "Name: DE_TOTAL, Length: 350640, dtype: float64"
      ]
     },
     "execution_count": 52,
     "metadata": {},
     "output_type": "execute_result"
    }
   ],
   "source": [
    "#FILL IN - Remove unnecessary variables and combine datasets\n",
    "# df = df['DE_TOTAL']\n",
    "df"
   ]
  },
  {
   "cell_type": "code",
   "execution_count": 53,
   "metadata": {},
   "outputs": [
    {
     "data": {
      "text/plain": [
       "time\n",
       "1980-01-01 00:00:00    0.2561\n",
       "1980-01-01 01:00:00    0.2547\n",
       "1980-01-01 02:00:00    0.2426\n",
       "1980-01-01 03:00:00    0.2351\n",
       "1980-01-01 04:00:00    0.2339\n",
       "                        ...  \n",
       "2019-12-31 19:00:00    0.1103\n",
       "2019-12-31 20:00:00    0.0921\n",
       "2019-12-31 21:00:00    0.0808\n",
       "2019-12-31 22:00:00    0.0722\n",
       "2019-12-31 23:00:00    0.0690\n",
       "Name: DE_TOTAL, Length: 350640, dtype: float64"
      ]
     },
     "execution_count": 53,
     "metadata": {},
     "output_type": "execute_result"
    }
   ],
   "source": [
    "df"
   ]
  },
  {
   "cell_type": "markdown",
   "metadata": {
    "id": "F42urHuzttjF"
   },
   "source": [
    "## 4. Update your data store\n",
    "Update your local database/data store with the cleaned data, following best practices for storing your cleaned data:\n",
    "\n",
    "- Must maintain different instances / versions of data (raw and cleaned data)\n",
    "- Must name the dataset files informatively\n",
    "- Ensure both the raw and cleaned data is saved to your database/data store"
   ]
  },
  {
   "cell_type": "code",
   "execution_count": 54,
   "metadata": {
    "id": "V3uay7EJUV_L"
   },
   "outputs": [],
   "source": [
    "#FILL IN - saving data"
   ]
  },
  {
   "cell_type": "markdown",
   "metadata": {
    "id": "cGy_yddGtzhM"
   },
   "source": [
    "## 5. Answer the research question\n",
    "\n",
    "### **5.1:** Define and answer the research question \n",
    "Going back to the problem statement in step 1, use the cleaned data to answer the question you raised. Produce **at least** two visualizations using the cleaned data and explain how they help you answer the question."
   ]
  },
  {
   "cell_type": "markdown",
   "metadata": {
    "id": "gjedE4s4ZkEd"
   },
   "source": [
    "*Research question:* FILL IN from answer to Step 1"
   ]
  },
  {
   "cell_type": "code",
   "execution_count": 55,
   "metadata": {
    "id": "Lkw3rW9kZmOm"
   },
   "outputs": [],
   "source": [
    "#Visual 1 - FILL IN"
   ]
  },
  {
   "cell_type": "markdown",
   "metadata": {},
   "source": [
    "*Answer to research question:* FILL IN"
   ]
  },
  {
   "cell_type": "code",
   "execution_count": 56,
   "metadata": {
    "id": "6fdK_8ZGZm9R"
   },
   "outputs": [],
   "source": [
    "#Visual 2 - FILL IN"
   ]
  },
  {
   "cell_type": "markdown",
   "metadata": {
    "id": "K5RgvMGUZoHn"
   },
   "source": [
    "*Answer to research question:* FILL IN"
   ]
  },
  {
   "cell_type": "markdown",
   "metadata": {
    "id": "0ezWXXZVj-TP"
   },
   "source": [
    "### **5.2:** Reflection\n",
    "In 2-4 sentences, if you had more time to complete the project, what actions would you take? For example, which data quality and structural issues would you look into further, and what research questions would you further explore?"
   ]
  },
  {
   "cell_type": "markdown",
   "metadata": {
    "id": "XB3RBDG5kFe1"
   },
   "source": [
    "*Answer:* FILL IN"
   ]
  }
 ],
 "metadata": {
  "colab": {
   "provenance": []
  },
  "kernelspec": {
   "display_name": "Python 3 (ipykernel)",
   "language": "python",
   "name": "python3"
  },
  "language_info": {
   "codemirror_mode": {
    "name": "ipython",
    "version": 3
   },
   "file_extension": ".py",
   "mimetype": "text/x-python",
   "name": "python",
   "nbconvert_exporter": "python",
   "pygments_lexer": "ipython3",
   "version": "3.9.13"
  }
 },
 "nbformat": 4,
 "nbformat_minor": 1
}
