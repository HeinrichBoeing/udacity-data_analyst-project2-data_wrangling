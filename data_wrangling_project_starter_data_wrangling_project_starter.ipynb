{
 "cells": [
  {
   "cell_type": "markdown",
   "metadata": {
    "id": "GNIwe5N7s0e_"
   },
   "source": [
    "# Real-world Data Wrangling"
   ]
  },
  {
   "cell_type": "markdown",
   "metadata": {
    "id": "_BG63Tpg8ep_"
   },
   "source": [
    "In this project, you will apply the skills you acquired in the course to gather and wrangle real-world data with two datasets of your choice.\n",
    "\n",
    "You will retrieve and extract the data, assess the data programmatically and visually, accross elements of data quality and structure, and implement a cleaning strategy for the data. You will then store the updated data into your selected database/data store, combine the data, and answer a research question with the datasets.\n",
    "\n",
    "Throughout the process, you are expected to:\n",
    "\n",
    "1. Explain your decisions towards methods used for gathering, assessing, cleaning, storing, and answering the research question\n",
    "2. Write code comments so your code is more readable"
   ]
  },
  {
   "cell_type": "code",
   "execution_count": 1,
   "metadata": {},
   "outputs": [],
   "source": [
    "import pandas as pd"
   ]
  },
  {
   "cell_type": "markdown",
   "metadata": {
    "id": "lDYDkH-Zs7Nn"
   },
   "source": [
    "## 1. Gather data\n",
    "\n",
    "In this section, you will extract data using two different data gathering methods and combine the data. Use at least two different types of data-gathering methods."
   ]
  },
  {
   "cell_type": "markdown",
   "metadata": {
    "id": "LbN7z7rcuqpO"
   },
   "source": [
    "### **1.1.** Problem Statement\n",
    "In 2-4 sentences, explain the kind of problem you want to look at and the datasets you will be wrangling for this project."
   ]
  },
  {
   "cell_type": "markdown",
   "metadata": {
    "id": "gi6swhjSYqu2"
   },
   "source": [
    "Make an prediction of the annual generated electric energy provided by wind energy for all 16 German states (Bundesländer) \n",
    "\n"
   ]
  },
  {
   "cell_type": "markdown",
   "metadata": {
    "id": "8AQfBAdUypMm"
   },
   "source": [
    "### **1.2.** Gather at least two datasets using two different data gathering methods\n",
    "\n",
    "List of data gathering methods:\n",
    "\n",
    "- Download data manually\n",
    "- Programmatically downloading files\n",
    "- Gather data by accessing APIs\n",
    "- Gather and extract data from HTML files using BeautifulSoup\n",
    "- Extract data from a SQL database\n",
    "\n",
    "Each dataset must have at least two variables, and have greater than 500 data samples within each dataset.\n",
    "\n",
    "For each dataset, briefly describe why you picked the dataset and the gathering method (2-3 full sentences), including the names and significance of the variables in the dataset. Show your work (e.g., if using an API to download the data, please include a snippet of your code). \n",
    "\n",
    "Load the dataset programmtically into this notebook."
   ]
  },
  {
   "cell_type": "markdown",
   "metadata": {
    "id": "7e6gS0wL1KTu"
   },
   "source": [
    "#### **Dataset 1**\n",
    "\n",
    "Type: CSV File\n",
    "\n",
    "Method: was downloaded via the API of https://www.renewables.ninja/ \n",
    "\n",
    "Dataset variables:\n",
    "\n",
    "*   Variable 1: 'time' hourly time in UTC, starting in '1980-01-01 00:00:00' to '2019-12-31 23:00:00'\n",
    "*   Variable 2-39: Capacity factors of the wind turbines for all German NUTS 2 regions\n",
    "*   Variable 40: 'DE_TOTAL' Capacity factors of the wind turbines for Germany in Total \n",
    " "
   ]
  },
  {
   "cell_type": "markdown",
   "metadata": {
    "id": "Su8E0uLuYkHU"
   },
   "source": [
    "1st data gathering and loading method <br>\n",
    "SOURCE: https://www.renewables.ninja/ --> country data --> Germany --> Wind (NUTS-2, current fleet, MERRA-2) (94.84 MB) <br>\n",
    "\n",
    "DATASET INFO: # Renewables.ninja Wind (NUTS-2 hourly data, 1980-2019) - ninja_wind_country_DE_merra-2_nuts-2_corrected - Version: 1.3 - License: https://creativecommons.org/licenses/by-nc/4.0/ - Reference: https://doi.org/10.1016/j.energy.2019.08.060 <br>\n",
    "UNITS: time in UTC, other columns are capacity factors [0-1]. Current farms, with offshore farms inclued in closest NUTS zone. Bias corrected using national generation data. <br>"
   ]
  },
  {
   "cell_type": "code",
   "execution_count": 48,
   "metadata": {},
   "outputs": [],
   "source": [
    "# The API Import is based on the API documentation of \n",
    "# https://www.renewables.ninja/documentation/api\n",
    "import requests\n",
    "import pandas as pd\n",
    "import csv\n",
    "\n",
    "token = '44586ddabbf058453c3bc63f939d8bc22cf96183'\n",
    "api_base = 'https://www.renewables.ninja/'\n",
    "\n",
    "s = requests.session()\n",
    "# Send token header with each request\n",
    "s.headers = {'Authorization': 'Token ' + token}\n",
    "\n",
    "url = api_base + 'country_downloads/DE/ninja_wind_country_DE_current_merra-2_nuts-2_corrected.csv' # wind energy data for Germany (DE)\n",
    " \n",
    "\n",
    "# Get the response\n",
    "r = s.get(url)\n",
    "\n",
    "# Write response into csv \n",
    "file = open('wind_data_germany.csv', 'wb')\n",
    "file.write(r.content)\n",
    "file.close()\n"
   ]
  },
  {
   "cell_type": "code",
   "execution_count": 50,
   "metadata": {},
   "outputs": [
    {
     "name": "stderr",
     "output_type": "stream",
     "text": [
      "C:\\Users\\boeingh\\AppData\\Local\\Temp\\ipykernel_19624\\3943849255.py:2: DtypeWarning: Columns (1,2,3,4,5,6,7,8,9,10,11,12,13,14,15,16,17,18,19,20,21,22,23,24,25,26,27,28,29,30,31,32,33,34,35,36,37,38,39) have mixed types. Specify dtype option on import or set low_memory=False.\n",
      "  df = pd.read_csv('wind_data_germany.csv')\n"
     ]
    }
   ],
   "source": [
    "# Read the saved csv as DataFrame\n",
    "df = pd.read_csv('wind_data_germany.csv')\n"
   ]
  },
  {
   "cell_type": "code",
   "execution_count": 53,
   "metadata": {},
   "outputs": [
    {
     "data": {
      "text/html": [
       "<div>\n",
       "<style scoped>\n",
       "    .dataframe tbody tr th:only-of-type {\n",
       "        vertical-align: middle;\n",
       "    }\n",
       "\n",
       "    .dataframe tbody tr th {\n",
       "        vertical-align: top;\n",
       "    }\n",
       "\n",
       "    .dataframe thead th {\n",
       "        text-align: right;\n",
       "    }\n",
       "</style>\n",
       "<table border=\"1\" class=\"dataframe\">\n",
       "  <thead>\n",
       "    <tr style=\"text-align: right;\">\n",
       "      <th></th>\n",
       "      <th># Renewables.ninja Wind (NUTS-2 hourly data, 1980-2019) - ninja_wind_country_DE_merra-2_nuts-2_corrected - Version: 1.3 - License: https://creativecommons.org/licenses/by-nc/4.0/ - Reference: https://doi.org/10.1016/j.energy.2019.08.060</th>\n",
       "      <th>Unnamed: 1</th>\n",
       "      <th>Unnamed: 2</th>\n",
       "      <th>Unnamed: 3</th>\n",
       "      <th>Unnamed: 4</th>\n",
       "      <th>Unnamed: 5</th>\n",
       "      <th>Unnamed: 6</th>\n",
       "      <th>Unnamed: 7</th>\n",
       "      <th>Unnamed: 8</th>\n",
       "      <th>Unnamed: 9</th>\n",
       "      <th>...</th>\n",
       "      <th>Unnamed: 30</th>\n",
       "      <th>Unnamed: 31</th>\n",
       "      <th>Unnamed: 32</th>\n",
       "      <th>Unnamed: 33</th>\n",
       "      <th>Unnamed: 34</th>\n",
       "      <th>Unnamed: 35</th>\n",
       "      <th>Unnamed: 36</th>\n",
       "      <th>Unnamed: 37</th>\n",
       "      <th>Unnamed: 38</th>\n",
       "      <th>Unnamed: 39</th>\n",
       "    </tr>\n",
       "  </thead>\n",
       "  <tbody>\n",
       "    <tr>\n",
       "      <th>0</th>\n",
       "      <td># Units: time in UTC, other columns are capaci...</td>\n",
       "      <td>NaN</td>\n",
       "      <td>NaN</td>\n",
       "      <td>NaN</td>\n",
       "      <td>NaN</td>\n",
       "      <td>NaN</td>\n",
       "      <td>NaN</td>\n",
       "      <td>NaN</td>\n",
       "      <td>NaN</td>\n",
       "      <td>NaN</td>\n",
       "      <td>...</td>\n",
       "      <td>NaN</td>\n",
       "      <td>NaN</td>\n",
       "      <td>NaN</td>\n",
       "      <td>NaN</td>\n",
       "      <td>NaN</td>\n",
       "      <td>NaN</td>\n",
       "      <td>NaN</td>\n",
       "      <td>NaN</td>\n",
       "      <td>NaN</td>\n",
       "      <td>NaN</td>\n",
       "    </tr>\n",
       "    <tr>\n",
       "      <th>1</th>\n",
       "      <td>time</td>\n",
       "      <td>DE11</td>\n",
       "      <td>DE12</td>\n",
       "      <td>DE13</td>\n",
       "      <td>DE14</td>\n",
       "      <td>DE21</td>\n",
       "      <td>DE22</td>\n",
       "      <td>DE23</td>\n",
       "      <td>DE24</td>\n",
       "      <td>DE25</td>\n",
       "      <td>...</td>\n",
       "      <td>DEB2</td>\n",
       "      <td>DEB3</td>\n",
       "      <td>DEC0</td>\n",
       "      <td>DED2</td>\n",
       "      <td>DED4</td>\n",
       "      <td>DED5</td>\n",
       "      <td>DEE0</td>\n",
       "      <td>DEF0</td>\n",
       "      <td>DEG0</td>\n",
       "      <td>DE_TOTAL</td>\n",
       "    </tr>\n",
       "    <tr>\n",
       "      <th>2</th>\n",
       "      <td>1980-01-01 00:00:00</td>\n",
       "      <td>0.3095</td>\n",
       "      <td>0.2976</td>\n",
       "      <td>0.1413</td>\n",
       "      <td>0.396</td>\n",
       "      <td>0.4268</td>\n",
       "      <td>0.3764</td>\n",
       "      <td>0.3452</td>\n",
       "      <td>0.2439</td>\n",
       "      <td>0.3468</td>\n",
       "      <td>...</td>\n",
       "      <td>0.2071</td>\n",
       "      <td>0.2788</td>\n",
       "      <td>0.1693</td>\n",
       "      <td>0.4048</td>\n",
       "      <td>0.3638</td>\n",
       "      <td>0.4305</td>\n",
       "      <td>0.3365</td>\n",
       "      <td>0.0175</td>\n",
       "      <td>0.3233</td>\n",
       "      <td>0.2561</td>\n",
       "    </tr>\n",
       "    <tr>\n",
       "      <th>3</th>\n",
       "      <td>1980-01-01 01:00:00</td>\n",
       "      <td>0.2973</td>\n",
       "      <td>0.2679</td>\n",
       "      <td>0.108</td>\n",
       "      <td>0.3758</td>\n",
       "      <td>0.4875</td>\n",
       "      <td>0.39</td>\n",
       "      <td>0.3714</td>\n",
       "      <td>0.2719</td>\n",
       "      <td>0.4085</td>\n",
       "      <td>...</td>\n",
       "      <td>0.1792</td>\n",
       "      <td>0.2371</td>\n",
       "      <td>0.161</td>\n",
       "      <td>0.4302</td>\n",
       "      <td>0.3025</td>\n",
       "      <td>0.3668</td>\n",
       "      <td>0.3284</td>\n",
       "      <td>0.0236</td>\n",
       "      <td>0.3143</td>\n",
       "      <td>0.2547</td>\n",
       "    </tr>\n",
       "    <tr>\n",
       "      <th>4</th>\n",
       "      <td>1980-01-01 02:00:00</td>\n",
       "      <td>0.3347</td>\n",
       "      <td>0.2664</td>\n",
       "      <td>0.1025</td>\n",
       "      <td>0.3826</td>\n",
       "      <td>0.5073</td>\n",
       "      <td>0.4446</td>\n",
       "      <td>0.4002</td>\n",
       "      <td>0.2992</td>\n",
       "      <td>0.4276</td>\n",
       "      <td>...</td>\n",
       "      <td>0.1981</td>\n",
       "      <td>0.2072</td>\n",
       "      <td>0.1721</td>\n",
       "      <td>0.3462</td>\n",
       "      <td>0.2959</td>\n",
       "      <td>0.35</td>\n",
       "      <td>0.319</td>\n",
       "      <td>0.0315</td>\n",
       "      <td>0.3273</td>\n",
       "      <td>0.2426</td>\n",
       "    </tr>\n",
       "  </tbody>\n",
       "</table>\n",
       "<p>5 rows × 40 columns</p>\n",
       "</div>"
      ],
      "text/plain": [
       "  # Renewables.ninja Wind (NUTS-2 hourly data, 1980-2019) - ninja_wind_country_DE_merra-2_nuts-2_corrected - Version: 1.3 - License: https://creativecommons.org/licenses/by-nc/4.0/ - Reference: https://doi.org/10.1016/j.energy.2019.08.060  \\\n",
       "0  # Units: time in UTC, other columns are capaci...                                                                                                                                                                                             \n",
       "1                                               time                                                                                                                                                                                             \n",
       "2                                1980-01-01 00:00:00                                                                                                                                                                                             \n",
       "3                                1980-01-01 01:00:00                                                                                                                                                                                             \n",
       "4                                1980-01-01 02:00:00                                                                                                                                                                                             \n",
       "\n",
       "  Unnamed: 1 Unnamed: 2 Unnamed: 3 Unnamed: 4 Unnamed: 5 Unnamed: 6  \\\n",
       "0        NaN        NaN        NaN        NaN        NaN        NaN   \n",
       "1       DE11       DE12       DE13       DE14       DE21       DE22   \n",
       "2     0.3095     0.2976     0.1413      0.396     0.4268     0.3764   \n",
       "3     0.2973     0.2679      0.108     0.3758     0.4875       0.39   \n",
       "4     0.3347     0.2664     0.1025     0.3826     0.5073     0.4446   \n",
       "\n",
       "  Unnamed: 7 Unnamed: 8 Unnamed: 9  ... Unnamed: 30 Unnamed: 31 Unnamed: 32  \\\n",
       "0        NaN        NaN        NaN  ...         NaN         NaN         NaN   \n",
       "1       DE23       DE24       DE25  ...        DEB2        DEB3        DEC0   \n",
       "2     0.3452     0.2439     0.3468  ...      0.2071      0.2788      0.1693   \n",
       "3     0.3714     0.2719     0.4085  ...      0.1792      0.2371       0.161   \n",
       "4     0.4002     0.2992     0.4276  ...      0.1981      0.2072      0.1721   \n",
       "\n",
       "  Unnamed: 33 Unnamed: 34 Unnamed: 35 Unnamed: 36 Unnamed: 37 Unnamed: 38  \\\n",
       "0         NaN         NaN         NaN         NaN         NaN         NaN   \n",
       "1        DED2        DED4        DED5        DEE0        DEF0        DEG0   \n",
       "2      0.4048      0.3638      0.4305      0.3365      0.0175      0.3233   \n",
       "3      0.4302      0.3025      0.3668      0.3284      0.0236      0.3143   \n",
       "4      0.3462      0.2959        0.35       0.319      0.0315      0.3273   \n",
       "\n",
       "  Unnamed: 39  \n",
       "0         NaN  \n",
       "1    DE_TOTAL  \n",
       "2      0.2561  \n",
       "3      0.2547  \n",
       "4      0.2426  \n",
       "\n",
       "[5 rows x 40 columns]"
      ]
     },
     "execution_count": 53,
     "metadata": {},
     "output_type": "execute_result"
    }
   ],
   "source": [
    "df.head(5)"
   ]
  },
  {
   "cell_type": "code",
   "execution_count": 54,
   "metadata": {},
   "outputs": [
    {
     "data": {
      "text/html": [
       "<div>\n",
       "<style scoped>\n",
       "    .dataframe tbody tr th:only-of-type {\n",
       "        vertical-align: middle;\n",
       "    }\n",
       "\n",
       "    .dataframe tbody tr th {\n",
       "        vertical-align: top;\n",
       "    }\n",
       "\n",
       "    .dataframe thead th {\n",
       "        text-align: right;\n",
       "    }\n",
       "</style>\n",
       "<table border=\"1\" class=\"dataframe\">\n",
       "  <thead>\n",
       "    <tr style=\"text-align: right;\">\n",
       "      <th></th>\n",
       "      <th># Renewables.ninja Wind (NUTS-2 hourly data, 1980-2019) - ninja_wind_country_DE_merra-2_nuts-2_corrected - Version: 1.3 - License: https://creativecommons.org/licenses/by-nc/4.0/ - Reference: https://doi.org/10.1016/j.energy.2019.08.060</th>\n",
       "      <th>Unnamed: 1</th>\n",
       "      <th>Unnamed: 2</th>\n",
       "      <th>Unnamed: 3</th>\n",
       "      <th>Unnamed: 4</th>\n",
       "      <th>Unnamed: 5</th>\n",
       "      <th>Unnamed: 6</th>\n",
       "      <th>Unnamed: 7</th>\n",
       "      <th>Unnamed: 8</th>\n",
       "      <th>Unnamed: 9</th>\n",
       "      <th>...</th>\n",
       "      <th>Unnamed: 30</th>\n",
       "      <th>Unnamed: 31</th>\n",
       "      <th>Unnamed: 32</th>\n",
       "      <th>Unnamed: 33</th>\n",
       "      <th>Unnamed: 34</th>\n",
       "      <th>Unnamed: 35</th>\n",
       "      <th>Unnamed: 36</th>\n",
       "      <th>Unnamed: 37</th>\n",
       "      <th>Unnamed: 38</th>\n",
       "      <th>Unnamed: 39</th>\n",
       "    </tr>\n",
       "  </thead>\n",
       "  <tbody>\n",
       "    <tr>\n",
       "      <th>350637</th>\n",
       "      <td>2019-12-31 19:00:00</td>\n",
       "      <td>0.0736</td>\n",
       "      <td>0.1045</td>\n",
       "      <td>0.0907</td>\n",
       "      <td>0.0589</td>\n",
       "      <td>0.0262</td>\n",
       "      <td>0.0523</td>\n",
       "      <td>0.0299</td>\n",
       "      <td>0.0309</td>\n",
       "      <td>0.0358</td>\n",
       "      <td>...</td>\n",
       "      <td>0.1179</td>\n",
       "      <td>0.0989</td>\n",
       "      <td>0.1243</td>\n",
       "      <td>0.2218</td>\n",
       "      <td>0.1214</td>\n",
       "      <td>0.1654</td>\n",
       "      <td>0.1408</td>\n",
       "      <td>0.1509</td>\n",
       "      <td>0.0697</td>\n",
       "      <td>0.1103</td>\n",
       "    </tr>\n",
       "    <tr>\n",
       "      <th>350638</th>\n",
       "      <td>2019-12-31 20:00:00</td>\n",
       "      <td>0.0693</td>\n",
       "      <td>0.1127</td>\n",
       "      <td>0.0988</td>\n",
       "      <td>0.0905</td>\n",
       "      <td>0.0186</td>\n",
       "      <td>0.0181</td>\n",
       "      <td>0.012</td>\n",
       "      <td>0.0282</td>\n",
       "      <td>0.0187</td>\n",
       "      <td>...</td>\n",
       "      <td>0.1139</td>\n",
       "      <td>0.0855</td>\n",
       "      <td>0.1251</td>\n",
       "      <td>0.1928</td>\n",
       "      <td>0.1109</td>\n",
       "      <td>0.1475</td>\n",
       "      <td>0.117</td>\n",
       "      <td>0.1263</td>\n",
       "      <td>0.0724</td>\n",
       "      <td>0.0921</td>\n",
       "    </tr>\n",
       "    <tr>\n",
       "      <th>350639</th>\n",
       "      <td>2019-12-31 21:00:00</td>\n",
       "      <td>0.0605</td>\n",
       "      <td>0.1063</td>\n",
       "      <td>0.0706</td>\n",
       "      <td>0.0854</td>\n",
       "      <td>0.014</td>\n",
       "      <td>0.0084</td>\n",
       "      <td>0.004</td>\n",
       "      <td>0.0269</td>\n",
       "      <td>0.0128</td>\n",
       "      <td>...</td>\n",
       "      <td>0.1093</td>\n",
       "      <td>0.0741</td>\n",
       "      <td>0.1109</td>\n",
       "      <td>0.1702</td>\n",
       "      <td>0.1006</td>\n",
       "      <td>0.1289</td>\n",
       "      <td>0.0973</td>\n",
       "      <td>0.1149</td>\n",
       "      <td>0.0669</td>\n",
       "      <td>0.0808</td>\n",
       "    </tr>\n",
       "    <tr>\n",
       "      <th>350640</th>\n",
       "      <td>2019-12-31 22:00:00</td>\n",
       "      <td>0.057</td>\n",
       "      <td>0.1031</td>\n",
       "      <td>0.0647</td>\n",
       "      <td>0.0616</td>\n",
       "      <td>0.0089</td>\n",
       "      <td>0.0056</td>\n",
       "      <td>0.0016</td>\n",
       "      <td>0.0227</td>\n",
       "      <td>0.0112</td>\n",
       "      <td>...</td>\n",
       "      <td>0.0977</td>\n",
       "      <td>0.0717</td>\n",
       "      <td>0.094</td>\n",
       "      <td>0.143</td>\n",
       "      <td>0.0861</td>\n",
       "      <td>0.1099</td>\n",
       "      <td>0.0774</td>\n",
       "      <td>0.1162</td>\n",
       "      <td>0.0553</td>\n",
       "      <td>0.0722</td>\n",
       "    </tr>\n",
       "    <tr>\n",
       "      <th>350641</th>\n",
       "      <td>2019-12-31 23:00:00</td>\n",
       "      <td>0.057</td>\n",
       "      <td>0.0963</td>\n",
       "      <td>0.0581</td>\n",
       "      <td>0.0467</td>\n",
       "      <td>0.0076</td>\n",
       "      <td>0.0058</td>\n",
       "      <td>0.0011</td>\n",
       "      <td>0.0137</td>\n",
       "      <td>0.0122</td>\n",
       "      <td>...</td>\n",
       "      <td>0.0845</td>\n",
       "      <td>0.0695</td>\n",
       "      <td>0.0819</td>\n",
       "      <td>0.1196</td>\n",
       "      <td>0.0709</td>\n",
       "      <td>0.0905</td>\n",
       "      <td>0.0614</td>\n",
       "      <td>0.131</td>\n",
       "      <td>0.0413</td>\n",
       "      <td>0.069</td>\n",
       "    </tr>\n",
       "  </tbody>\n",
       "</table>\n",
       "<p>5 rows × 40 columns</p>\n",
       "</div>"
      ],
      "text/plain": [
       "       # Renewables.ninja Wind (NUTS-2 hourly data, 1980-2019) - ninja_wind_country_DE_merra-2_nuts-2_corrected - Version: 1.3 - License: https://creativecommons.org/licenses/by-nc/4.0/ - Reference: https://doi.org/10.1016/j.energy.2019.08.060  \\\n",
       "350637                                2019-12-31 19:00:00                                                                                                                                                                                             \n",
       "350638                                2019-12-31 20:00:00                                                                                                                                                                                             \n",
       "350639                                2019-12-31 21:00:00                                                                                                                                                                                             \n",
       "350640                                2019-12-31 22:00:00                                                                                                                                                                                             \n",
       "350641                                2019-12-31 23:00:00                                                                                                                                                                                             \n",
       "\n",
       "       Unnamed: 1 Unnamed: 2 Unnamed: 3 Unnamed: 4 Unnamed: 5 Unnamed: 6  \\\n",
       "350637     0.0736     0.1045     0.0907     0.0589     0.0262     0.0523   \n",
       "350638     0.0693     0.1127     0.0988     0.0905     0.0186     0.0181   \n",
       "350639     0.0605     0.1063     0.0706     0.0854      0.014     0.0084   \n",
       "350640      0.057     0.1031     0.0647     0.0616     0.0089     0.0056   \n",
       "350641      0.057     0.0963     0.0581     0.0467     0.0076     0.0058   \n",
       "\n",
       "       Unnamed: 7 Unnamed: 8 Unnamed: 9  ... Unnamed: 30 Unnamed: 31  \\\n",
       "350637     0.0299     0.0309     0.0358  ...      0.1179      0.0989   \n",
       "350638      0.012     0.0282     0.0187  ...      0.1139      0.0855   \n",
       "350639      0.004     0.0269     0.0128  ...      0.1093      0.0741   \n",
       "350640     0.0016     0.0227     0.0112  ...      0.0977      0.0717   \n",
       "350641     0.0011     0.0137     0.0122  ...      0.0845      0.0695   \n",
       "\n",
       "       Unnamed: 32 Unnamed: 33 Unnamed: 34 Unnamed: 35 Unnamed: 36  \\\n",
       "350637      0.1243      0.2218      0.1214      0.1654      0.1408   \n",
       "350638      0.1251      0.1928      0.1109      0.1475       0.117   \n",
       "350639      0.1109      0.1702      0.1006      0.1289      0.0973   \n",
       "350640       0.094       0.143      0.0861      0.1099      0.0774   \n",
       "350641      0.0819      0.1196      0.0709      0.0905      0.0614   \n",
       "\n",
       "       Unnamed: 37 Unnamed: 38 Unnamed: 39  \n",
       "350637      0.1509      0.0697      0.1103  \n",
       "350638      0.1263      0.0724      0.0921  \n",
       "350639      0.1149      0.0669      0.0808  \n",
       "350640      0.1162      0.0553      0.0722  \n",
       "350641       0.131      0.0413       0.069  \n",
       "\n",
       "[5 rows x 40 columns]"
      ]
     },
     "execution_count": 54,
     "metadata": {},
     "output_type": "execute_result"
    }
   ],
   "source": [
    "df.tail(5)"
   ]
  },
  {
   "cell_type": "markdown",
   "metadata": {
    "id": "hoUjq1tPzz7P"
   },
   "source": [
    "#### Dataset 2\n",
    "\n",
    "Type: *FILL IN* (e.g., CSV File.)\n",
    "\n",
    "Method: *FILL IN* (e.g., The data was gathered using the \"API\" method from Y source.)\n",
    "\n",
    "Dataset variables:\n",
    "\n",
    "*   *Variable 1 FILL IN* (e.g., H_MEAN: Mean hourly wage)\n",
    "*   *Variable 2 FILL IN*"
   ]
  },
  {
   "cell_type": "code",
   "execution_count": 13,
   "metadata": {
    "id": "6zT0QxRyYmm7"
   },
   "outputs": [],
   "source": [
    "#FILL IN 2nd data gathering and loading method\n",
    "\n",
    "df2 = pd.read_csv('Stromerzeuger_1_bis_25000.csv', sep=';', on_bad_lines='warn') \n"
   ]
  },
  {
   "cell_type": "code",
   "execution_count": 15,
   "metadata": {},
   "outputs": [
    {
     "data": {
      "text/html": [
       "<div>\n",
       "<style scoped>\n",
       "    .dataframe tbody tr th:only-of-type {\n",
       "        vertical-align: middle;\n",
       "    }\n",
       "\n",
       "    .dataframe tbody tr th {\n",
       "        vertical-align: top;\n",
       "    }\n",
       "\n",
       "    .dataframe thead th {\n",
       "        text-align: right;\n",
       "    }\n",
       "</style>\n",
       "<table border=\"1\" class=\"dataframe\">\n",
       "  <thead>\n",
       "    <tr style=\"text-align: right;\">\n",
       "      <th></th>\n",
       "      <th>MaStR-Nr. der Einheit</th>\n",
       "      <th>Anzeige-Name der Einheit</th>\n",
       "      <th>Betriebs-Status</th>\n",
       "      <th>Energieträger</th>\n",
       "      <th>Bruttoleistung der Einheit</th>\n",
       "      <th>Nettonennleistung der Einheit</th>\n",
       "      <th>Inbetriebnahmedatum der Einheit</th>\n",
       "      <th>Registrierungsdatum der Einheit</th>\n",
       "      <th>Bundesland</th>\n",
       "      <th>Postleitzahl</th>\n",
       "      <th>...</th>\n",
       "      <th>MaStR-Nr. der Lokation</th>\n",
       "      <th>MaStR-Nr. der EEG-Anlage</th>\n",
       "      <th>EEG-Anlagenschlüssel</th>\n",
       "      <th>Inbetriebnahmedatum der EEG-Anlage</th>\n",
       "      <th>Installierte Leistung</th>\n",
       "      <th>Zuschlagnummer (EEG/KWK-Ausschreibung)</th>\n",
       "      <th>MaStR-Nr. der KWK-Anlage</th>\n",
       "      <th>Inbetriebnahmedatum der KWK-Anlage</th>\n",
       "      <th>Elektrische KWK-Leistung</th>\n",
       "      <th>Thermische Nutzleistung in kW</th>\n",
       "    </tr>\n",
       "  </thead>\n",
       "  <tbody>\n",
       "    <tr>\n",
       "      <th>0</th>\n",
       "      <td>SEE940146675093</td>\n",
       "      <td>WEA 5</td>\n",
       "      <td>In Betrieb</td>\n",
       "      <td>Wind</td>\n",
       "      <td>3000</td>\n",
       "      <td>3000</td>\n",
       "      <td>1.9.2017</td>\n",
       "      <td>13.2.2019</td>\n",
       "      <td>Hessen</td>\n",
       "      <td>34298.0</td>\n",
       "      <td>...</td>\n",
       "      <td>SEL911577226093</td>\n",
       "      <td>EEG951718125489</td>\n",
       "      <td>E23572010000000001000024015700005</td>\n",
       "      <td>1.9.2017</td>\n",
       "      <td>3000</td>\n",
       "      <td>NaN</td>\n",
       "      <td>NaN</td>\n",
       "      <td>NaN</td>\n",
       "      <td>NaN</td>\n",
       "      <td>NaN</td>\n",
       "    </tr>\n",
       "    <tr>\n",
       "      <th>1</th>\n",
       "      <td>SEE973767078653</td>\n",
       "      <td>WEA 2 / 1150775</td>\n",
       "      <td>In Betrieb</td>\n",
       "      <td>Wind</td>\n",
       "      <td>3000</td>\n",
       "      <td>3000</td>\n",
       "      <td>28.9.2017</td>\n",
       "      <td>1.2.2019</td>\n",
       "      <td>Schleswig-Holstein</td>\n",
       "      <td>23824.0</td>\n",
       "      <td>...</td>\n",
       "      <td>SEL950515942794</td>\n",
       "      <td>EEG912885854947</td>\n",
       "      <td>E2079301EA01000000000087410800002</td>\n",
       "      <td>28.9.2017</td>\n",
       "      <td>3000</td>\n",
       "      <td>NaN</td>\n",
       "      <td>NaN</td>\n",
       "      <td>NaN</td>\n",
       "      <td>NaN</td>\n",
       "      <td>NaN</td>\n",
       "    </tr>\n",
       "    <tr>\n",
       "      <th>2</th>\n",
       "      <td>SEE914108319653</td>\n",
       "      <td>WEA 4</td>\n",
       "      <td>In Betrieb</td>\n",
       "      <td>Wind</td>\n",
       "      <td>3000</td>\n",
       "      <td>3000</td>\n",
       "      <td>4.9.2017</td>\n",
       "      <td>13.2.2019</td>\n",
       "      <td>Hessen</td>\n",
       "      <td>34298.0</td>\n",
       "      <td>...</td>\n",
       "      <td>SEL911577226093</td>\n",
       "      <td>EEG996216581153</td>\n",
       "      <td>E23572010000000001000024015700006</td>\n",
       "      <td>4.9.2017</td>\n",
       "      <td>3000</td>\n",
       "      <td>NaN</td>\n",
       "      <td>NaN</td>\n",
       "      <td>NaN</td>\n",
       "      <td>NaN</td>\n",
       "      <td>NaN</td>\n",
       "    </tr>\n",
       "    <tr>\n",
       "      <th>3</th>\n",
       "      <td>SEE982417853618</td>\n",
       "      <td>WEA 6</td>\n",
       "      <td>In Betrieb</td>\n",
       "      <td>Wind</td>\n",
       "      <td>3000</td>\n",
       "      <td>3000</td>\n",
       "      <td>31.8.2017</td>\n",
       "      <td>13.2.2019</td>\n",
       "      <td>Hessen</td>\n",
       "      <td>34298.0</td>\n",
       "      <td>...</td>\n",
       "      <td>SEL911577226093</td>\n",
       "      <td>EEG926639129328</td>\n",
       "      <td>E23572010000000001000024015700004</td>\n",
       "      <td>31.8.2017</td>\n",
       "      <td>3000</td>\n",
       "      <td>NaN</td>\n",
       "      <td>NaN</td>\n",
       "      <td>NaN</td>\n",
       "      <td>NaN</td>\n",
       "      <td>NaN</td>\n",
       "    </tr>\n",
       "    <tr>\n",
       "      <th>4</th>\n",
       "      <td>SEE913741454097</td>\n",
       "      <td>WEA 1 BMR</td>\n",
       "      <td>In Betrieb</td>\n",
       "      <td>Wind</td>\n",
       "      <td>2400</td>\n",
       "      <td>2400</td>\n",
       "      <td>11.1.2017</td>\n",
       "      <td>31.1.2019</td>\n",
       "      <td>Nordrhein-Westfalen</td>\n",
       "      <td>52525.0</td>\n",
       "      <td>...</td>\n",
       "      <td>SEL928898629335</td>\n",
       "      <td>EEG982767300077</td>\n",
       "      <td>E3070101Wn00000000000002891900001</td>\n",
       "      <td>19.1.2017</td>\n",
       "      <td>2400</td>\n",
       "      <td>NaN</td>\n",
       "      <td>NaN</td>\n",
       "      <td>NaN</td>\n",
       "      <td>NaN</td>\n",
       "      <td>NaN</td>\n",
       "    </tr>\n",
       "  </tbody>\n",
       "</table>\n",
       "<p>5 rows × 50 columns</p>\n",
       "</div>"
      ],
      "text/plain": [
       "  MaStR-Nr. der Einheit Anzeige-Name der Einheit Betriebs-Status  \\\n",
       "0       SEE940146675093                    WEA 5      In Betrieb   \n",
       "1       SEE973767078653          WEA 2 / 1150775      In Betrieb   \n",
       "2       SEE914108319653                    WEA 4      In Betrieb   \n",
       "3       SEE982417853618                    WEA 6      In Betrieb   \n",
       "4       SEE913741454097                WEA 1 BMR      In Betrieb   \n",
       "\n",
       "  Energieträger Bruttoleistung der Einheit Nettonennleistung der Einheit  \\\n",
       "0          Wind                       3000                          3000   \n",
       "1          Wind                       3000                          3000   \n",
       "2          Wind                       3000                          3000   \n",
       "3          Wind                       3000                          3000   \n",
       "4          Wind                       2400                          2400   \n",
       "\n",
       "  Inbetriebnahmedatum der Einheit Registrierungsdatum der Einheit  \\\n",
       "0                        1.9.2017                       13.2.2019   \n",
       "1                       28.9.2017                        1.2.2019   \n",
       "2                        4.9.2017                       13.2.2019   \n",
       "3                       31.8.2017                       13.2.2019   \n",
       "4                       11.1.2017                       31.1.2019   \n",
       "\n",
       "            Bundesland  Postleitzahl  ... MaStR-Nr. der Lokation  \\\n",
       "0               Hessen       34298.0  ...        SEL911577226093   \n",
       "1   Schleswig-Holstein       23824.0  ...        SEL950515942794   \n",
       "2               Hessen       34298.0  ...        SEL911577226093   \n",
       "3               Hessen       34298.0  ...        SEL911577226093   \n",
       "4  Nordrhein-Westfalen       52525.0  ...        SEL928898629335   \n",
       "\n",
       "  MaStR-Nr. der EEG-Anlage               EEG-Anlagenschlüssel  \\\n",
       "0          EEG951718125489  E23572010000000001000024015700005   \n",
       "1          EEG912885854947  E2079301EA01000000000087410800002   \n",
       "2          EEG996216581153  E23572010000000001000024015700006   \n",
       "3          EEG926639129328  E23572010000000001000024015700004   \n",
       "4          EEG982767300077  E3070101Wn00000000000002891900001   \n",
       "\n",
       "  Inbetriebnahmedatum der EEG-Anlage Installierte Leistung  \\\n",
       "0                           1.9.2017                  3000   \n",
       "1                          28.9.2017                  3000   \n",
       "2                           4.9.2017                  3000   \n",
       "3                          31.8.2017                  3000   \n",
       "4                          19.1.2017                  2400   \n",
       "\n",
       "   Zuschlagnummer (EEG/KWK-Ausschreibung) MaStR-Nr. der KWK-Anlage  \\\n",
       "0                                     NaN                      NaN   \n",
       "1                                     NaN                      NaN   \n",
       "2                                     NaN                      NaN   \n",
       "3                                     NaN                      NaN   \n",
       "4                                     NaN                      NaN   \n",
       "\n",
       "  Inbetriebnahmedatum der KWK-Anlage  Elektrische KWK-Leistung  \\\n",
       "0                                NaN                       NaN   \n",
       "1                                NaN                       NaN   \n",
       "2                                NaN                       NaN   \n",
       "3                                NaN                       NaN   \n",
       "4                                NaN                       NaN   \n",
       "\n",
       "   Thermische Nutzleistung in kW  \n",
       "0                            NaN  \n",
       "1                            NaN  \n",
       "2                            NaN  \n",
       "3                            NaN  \n",
       "4                            NaN  \n",
       "\n",
       "[5 rows x 50 columns]"
      ]
     },
     "execution_count": 15,
     "metadata": {},
     "output_type": "execute_result"
    }
   ],
   "source": [
    "df2.head(5)"
   ]
  },
  {
   "cell_type": "code",
   "execution_count": 16,
   "metadata": {},
   "outputs": [
    {
     "name": "stdout",
     "output_type": "stream",
     "text": [
      "<class 'pandas.core.frame.DataFrame'>\n",
      "RangeIndex: 25000 entries, 0 to 24999\n",
      "Data columns (total 50 columns):\n",
      " #   Column                                  Non-Null Count  Dtype  \n",
      "---  ------                                  --------------  -----  \n",
      " 0   MaStR-Nr. der Einheit                   25000 non-null  object \n",
      " 1   Anzeige-Name der Einheit                25000 non-null  object \n",
      " 2   Betriebs-Status                         25000 non-null  object \n",
      " 3   Energieträger                           25000 non-null  object \n",
      " 4   Bruttoleistung der Einheit              25000 non-null  object \n",
      " 5   Nettonennleistung der Einheit           25000 non-null  object \n",
      " 6   Inbetriebnahmedatum der Einheit         24821 non-null  object \n",
      " 7   Registrierungsdatum der Einheit         25000 non-null  object \n",
      " 8   Bundesland                              25000 non-null  object \n",
      " 9   Postleitzahl                            23934 non-null  float64\n",
      " 10  Ort                                     23934 non-null  object \n",
      " 11  Straße                                  3132 non-null   object \n",
      " 12  Hausnummer                              1716 non-null   object \n",
      " 13  Gemarkung                               20421 non-null  object \n",
      " 14  Flurstück                               20460 non-null  object \n",
      " 15  Gemeindeschlüssel                       23935 non-null  float64\n",
      " 16  Koordinate: Breitengrad (WGS84)         24618 non-null  object \n",
      " 17  Koordinate: Längengrad (WGS84)          24618 non-null  object \n",
      " 18  Anzahl der Solar-Module                 0 non-null      float64\n",
      " 19  Hauptausrichtung der Solar-Module       0 non-null      float64\n",
      " 20  Name des Windparks                      24440 non-null  object \n",
      " 21  Nabenhöhe der Windenergieanlage         24505 non-null  object \n",
      " 22  Rotordurchmesser der Windenergieanlage  24720 non-null  object \n",
      " 23  Hersteller der Windenergieanlage        24833 non-null  object \n",
      " 24  Typenbezeichnung                        24833 non-null  object \n",
      " 25  Hauptbrennstoff der Einheit             0 non-null      float64\n",
      " 26  Nutzbare Speicherkapazität in kWh       0 non-null      float64\n",
      " 27  Technologie der Stromerzeugung          25000 non-null  object \n",
      " 28  Lage der Einheit                        24999 non-null  object \n",
      " 29  Letzte Aktualisierung                   25000 non-null  object \n",
      " 30  Datum der endgültigen Stilllegung       987 non-null    object \n",
      " 31  Datum der geplanten Inbetriebnahme      179 non-null    object \n",
      " 32  Name des Anlagenbetreibers (nur Org.)   24186 non-null  object \n",
      " 33  \tMaStR-Nr. des Anlagenbetreibers        24186 non-null  object \n",
      " 34  Volleinspeisung oder Teileinspeisung    24654 non-null  object \n",
      " 35  MaStR-Nr. der Genehmigung               19713 non-null  object \n",
      " 36  Name des Anschluss-Netzbetreibers       24172 non-null  object \n",
      " 37  MaStR-Nr. des Anschluss-Netzbetreibers  24172 non-null  object \n",
      " 38  Netzbetreiberprüfung                    24820 non-null  object \n",
      " 39  Spannungsebene                          24809 non-null  object \n",
      " 40  MaStR-Nr. der Lokation                  24004 non-null  object \n",
      " 41  MaStR-Nr. der EEG-Anlage                24821 non-null  object \n",
      " 42  EEG-Anlagenschlüssel                    23382 non-null  object \n",
      " 43  Inbetriebnahmedatum der EEG-Anlage      24821 non-null  object \n",
      " 44  Installierte Leistung                   24821 non-null  object \n",
      " 45  Zuschlagnummer (EEG/KWK-Ausschreibung)  1645 non-null   object \n",
      " 46  MaStR-Nr. der KWK-Anlage                0 non-null      float64\n",
      " 47  Inbetriebnahmedatum der KWK-Anlage      0 non-null      float64\n",
      " 48  Elektrische KWK-Leistung                0 non-null      float64\n",
      " 49  Thermische Nutzleistung in kW           0 non-null      float64\n",
      "dtypes: float64(10), object(40)\n",
      "memory usage: 9.5+ MB\n"
     ]
    }
   ],
   "source": [
    "df2.info()"
   ]
  },
  {
   "cell_type": "markdown",
   "metadata": {},
   "source": [
    "Optional data storing step: You may save your raw dataset files to the local data store before moving to the next step."
   ]
  },
  {
   "cell_type": "code",
   "execution_count": null,
   "metadata": {},
   "outputs": [],
   "source": [
    "#Optional: store the raw data in your local data store"
   ]
  },
  {
   "cell_type": "markdown",
   "metadata": {
    "id": "QwSWIVmotLgV"
   },
   "source": [
    "## 2. Assess data\n",
    "\n",
    "Assess the data according to data quality and tidiness metrics using the report below.\n",
    "\n",
    "List **two** data quality issues and **two** tidiness issues. Assess each data issue visually **and** programmatically, then briefly describe the issue you find.  **Make sure you include justifications for the methods you use for the assessment.**"
   ]
  },
  {
   "cell_type": "markdown",
   "metadata": {},
   "source": [
    "Data quality dimensions help guide your thought process while assessing and cleaning. <br>\n",
    "\n",
    "Let's recap the key dimensions of data quality: \n",
    "\n",
    "1. Completeness is a metric that helps you understand whether your data is sufficient to answer interesting questions or solve your problem.\n",
    "2. Validity is a metric helping you understand how well your data conforms to a defined set of rules for data, also known as a schema.\n",
    "3. Accuracy is a metric that helps you understand whether your data accurately represents the reality it aims to depict.\n",
    "4. Consistency is a metric that helps you understand two things: whether your data follows a standard format and whether your data’s info matches with information from other data sources.\n",
    "5. Uniqueness is a metric that helps you understand whether there are duplicate or overlapping values in your data."
   ]
  },
  {
   "cell_type": "markdown",
   "metadata": {
    "id": "adaK2iPNzVu4"
   },
   "source": [
    "### Quality Issue 1:"
   ]
  },
  {
   "cell_type": "code",
   "execution_count": null,
   "metadata": {
    "id": "SpW59kh-zl8d"
   },
   "outputs": [],
   "source": [
    "#FILL IN - Inspecting the dataframe visually\n",
    "df.head(5)"
   ]
  },
  {
   "cell_type": "code",
   "execution_count": null,
   "metadata": {
    "id": "-qfcocStzsKg"
   },
   "outputs": [],
   "source": [
    "#FILL IN - Inspecting the dataframe programmatically"
   ]
  },
  {
   "cell_type": "markdown",
   "metadata": {},
   "source": [
    "Issue and justification: *FILL IN* <br>\n",
    "columns and time index are not set correctly"
   ]
  },
  {
   "cell_type": "markdown",
   "metadata": {
    "id": "8Be77N4I1AmE"
   },
   "source": [
    "### Quality Issue 2:"
   ]
  },
  {
   "cell_type": "code",
   "execution_count": null,
   "metadata": {
    "id": "iMhHyiyLM2I3"
   },
   "outputs": [],
   "source": [
    "#FILL IN - Inspecting the dataframe visually\n"
   ]
  },
  {
   "cell_type": "code",
   "execution_count": null,
   "metadata": {
    "id": "bnviRCUI-bb7"
   },
   "outputs": [],
   "source": [
    "#FILL IN - Inspecting the dataframe programmatically\n"
   ]
  },
  {
   "cell_type": "markdown",
   "metadata": {},
   "source": [
    "Issue and justification: *FILL IN*"
   ]
  },
  {
   "cell_type": "markdown",
   "metadata": {
    "id": "lXhGiYyiwwKN"
   },
   "source": [
    "### Tidiness Issue 1:"
   ]
  },
  {
   "cell_type": "code",
   "execution_count": null,
   "metadata": {
    "id": "fleC5rORI0Xl"
   },
   "outputs": [],
   "source": [
    "#FILL IN - Inspecting the dataframe visually\n"
   ]
  },
  {
   "cell_type": "code",
   "execution_count": null,
   "metadata": {
    "id": "BTuQw7Rbsio4"
   },
   "outputs": [],
   "source": [
    "#FILL IN - Inspecting the dataframe programmatically\n",
    "df.dtypes"
   ]
  },
  {
   "cell_type": "markdown",
   "metadata": {},
   "source": [
    "Issue and justification: *FILL IN*"
   ]
  },
  {
   "cell_type": "markdown",
   "metadata": {
    "id": "4ffMoRGSwzYj"
   },
   "source": [
    "### Tidiness Issue 2: "
   ]
  },
  {
   "cell_type": "code",
   "execution_count": null,
   "metadata": {
    "id": "XUpeoqokw5Qt"
   },
   "outputs": [],
   "source": [
    "#FILL IN - Inspecting the dataframe visually"
   ]
  },
  {
   "cell_type": "code",
   "execution_count": null,
   "metadata": {
    "id": "c8JK4DoXxtFA"
   },
   "outputs": [],
   "source": [
    "#FILL IN - Inspecting the dataframe programmatically"
   ]
  },
  {
   "cell_type": "markdown",
   "metadata": {},
   "source": [
    "Issue and justification: *FILL IN*"
   ]
  },
  {
   "cell_type": "markdown",
   "metadata": {
    "id": "D6gmLnBttpCh"
   },
   "source": [
    "## 3. Clean data\n",
    "Clean the data to solve the 4 issues corresponding to data quality and tidiness found in the assessing step. **Make sure you include justifications for your cleaning decisions.**\n",
    "\n",
    "After the cleaning for each issue, please use **either** the visually or programatical method to validate the cleaning was succesful.\n",
    "\n",
    "At this stage, you are also expected to remove variables that are unnecessary for your analysis and combine your datasets. Depending on your datasets, you may choose to perform variable combination and elimination before or after the cleaning stage. Your dataset must have **at least** 4 variables after combining the data."
   ]
  },
  {
   "cell_type": "code",
   "execution_count": null,
   "metadata": {},
   "outputs": [],
   "source": [
    "# FILL IN - Make copies of the datasets to ensure the raw dataframes \n",
    "# are not impacted"
   ]
  },
  {
   "cell_type": "markdown",
   "metadata": {
    "id": "FmFhN52Yyn3l"
   },
   "source": [
    "### **Quality Issue 1: Setting the right Columns"
   ]
  },
  {
   "cell_type": "code",
   "execution_count": null,
   "metadata": {
    "id": "9UejDWrNMW4a"
   },
   "outputs": [],
   "source": [
    "# FILL IN - Apply the cleaning strategy\n",
    "df.rename(columns=df.iloc[1], inplace=True)\n",
    "df.drop([0,1], inplace=True)\n"
   ]
  },
  {
   "cell_type": "code",
   "execution_count": null,
   "metadata": {
    "scrolled": false
   },
   "outputs": [],
   "source": []
  },
  {
   "cell_type": "code",
   "execution_count": null,
   "metadata": {},
   "outputs": [],
   "source": []
  },
  {
   "cell_type": "code",
   "execution_count": null,
   "metadata": {},
   "outputs": [],
   "source": []
  },
  {
   "cell_type": "code",
   "execution_count": null,
   "metadata": {
    "id": "oUBee-LPytkv"
   },
   "outputs": [],
   "source": [
    "# FILL IN - Validate the cleaning was successful\n",
    "df.head(5)"
   ]
  },
  {
   "cell_type": "markdown",
   "metadata": {},
   "source": [
    "Justification: *FILL IN*"
   ]
  },
  {
   "cell_type": "markdown",
   "metadata": {
    "id": "n_DAUbJrymBL"
   },
   "source": [
    "### **Quality Issue 2: FILL IN**"
   ]
  },
  {
   "cell_type": "code",
   "execution_count": null,
   "metadata": {
    "id": "5Yfb-Yu5MTuE"
   },
   "outputs": [],
   "source": [
    "#FILL IN - Apply the cleaning strategy\n",
    "df = df.astype(float)"
   ]
  },
  {
   "cell_type": "code",
   "execution_count": null,
   "metadata": {
    "id": "ionB2sRaMUmY"
   },
   "outputs": [],
   "source": [
    "#FILL IN - Validate the cleaning was successful\n",
    "df.index"
   ]
  },
  {
   "cell_type": "markdown",
   "metadata": {},
   "source": [
    "Justification: *FILL IN*"
   ]
  },
  {
   "cell_type": "markdown",
   "metadata": {
    "id": "bIUrrfSNyOPR"
   },
   "source": [
    "### **Tidiness Issue 1: Setting correct Index**"
   ]
  },
  {
   "cell_type": "code",
   "execution_count": null,
   "metadata": {
    "id": "fib0zAm333bn"
   },
   "outputs": [],
   "source": [
    "#FILL IN - Apply the cleaning strategy\n",
    "df['time'] = pd.DatetimeIndex(df['time']) # Cast as DatetimeIndex\n",
    "df.set_index('time', inplace=True) # Set as time Index for Dataframe"
   ]
  },
  {
   "cell_type": "code",
   "execution_count": null,
   "metadata": {
    "id": "yhrnUGY_Nk8B"
   },
   "outputs": [],
   "source": [
    "#FILL IN - Validate the cleaning was successful\n",
    "df.index"
   ]
  },
  {
   "cell_type": "markdown",
   "metadata": {},
   "source": [
    "Justification: *FILL IN*"
   ]
  },
  {
   "cell_type": "markdown",
   "metadata": {
    "id": "o51Bt8kwyTzk"
   },
   "source": [
    "### **Tidiness Issue 2: FILL IN**"
   ]
  },
  {
   "cell_type": "code",
   "execution_count": null,
   "metadata": {
    "id": "7zW8O5yx4Y9O"
   },
   "outputs": [],
   "source": [
    "#FILL IN - Apply the cleaning strategy"
   ]
  },
  {
   "cell_type": "code",
   "execution_count": null,
   "metadata": {
    "id": "q6I_Sr7lxXi5"
   },
   "outputs": [],
   "source": [
    "#FILL IN - Validate the cleaning was successful"
   ]
  },
  {
   "cell_type": "markdown",
   "metadata": {},
   "source": [
    "Justification: *FILL IN*"
   ]
  },
  {
   "cell_type": "markdown",
   "metadata": {},
   "source": [
    "### **Remove unnecessary variables and combine datasets**\n",
    "\n",
    "Depending on the datasets, you can also peform the combination before the cleaning steps."
   ]
  },
  {
   "cell_type": "code",
   "execution_count": null,
   "metadata": {},
   "outputs": [],
   "source": [
    "#FILL IN - Remove unnecessary variables and combine datasets\n",
    "df = df['DE_TOTAL']\n",
    "df"
   ]
  },
  {
   "cell_type": "code",
   "execution_count": null,
   "metadata": {},
   "outputs": [],
   "source": [
    "df"
   ]
  },
  {
   "cell_type": "markdown",
   "metadata": {
    "id": "F42urHuzttjF"
   },
   "source": [
    "## 4. Update your data store\n",
    "Update your local database/data store with the cleaned data, following best practices for storing your cleaned data:\n",
    "\n",
    "- Must maintain different instances / versions of data (raw and cleaned data)\n",
    "- Must name the dataset files informatively\n",
    "- Ensure both the raw and cleaned data is saved to your database/data store"
   ]
  },
  {
   "cell_type": "code",
   "execution_count": null,
   "metadata": {
    "id": "V3uay7EJUV_L"
   },
   "outputs": [],
   "source": [
    "#FILL IN - saving data"
   ]
  },
  {
   "cell_type": "markdown",
   "metadata": {
    "id": "cGy_yddGtzhM"
   },
   "source": [
    "## 5. Answer the research question\n",
    "\n",
    "### **5.1:** Define and answer the research question \n",
    "Going back to the problem statement in step 1, use the cleaned data to answer the question you raised. Produce **at least** two visualizations using the cleaned data and explain how they help you answer the question."
   ]
  },
  {
   "cell_type": "markdown",
   "metadata": {
    "id": "gjedE4s4ZkEd"
   },
   "source": [
    "*Research question:* FILL IN from answer to Step 1"
   ]
  },
  {
   "cell_type": "code",
   "execution_count": null,
   "metadata": {
    "id": "Lkw3rW9kZmOm"
   },
   "outputs": [],
   "source": [
    "#Visual 1 - FILL IN"
   ]
  },
  {
   "cell_type": "markdown",
   "metadata": {},
   "source": [
    "*Answer to research question:* FILL IN"
   ]
  },
  {
   "cell_type": "code",
   "execution_count": null,
   "metadata": {
    "id": "6fdK_8ZGZm9R"
   },
   "outputs": [],
   "source": [
    "#Visual 2 - FILL IN"
   ]
  },
  {
   "cell_type": "markdown",
   "metadata": {
    "id": "K5RgvMGUZoHn"
   },
   "source": [
    "*Answer to research question:* FILL IN"
   ]
  },
  {
   "cell_type": "markdown",
   "metadata": {
    "id": "0ezWXXZVj-TP"
   },
   "source": [
    "### **5.2:** Reflection\n",
    "In 2-4 sentences, if you had more time to complete the project, what actions would you take? For example, which data quality and structural issues would you look into further, and what research questions would you further explore?"
   ]
  },
  {
   "cell_type": "markdown",
   "metadata": {
    "id": "XB3RBDG5kFe1"
   },
   "source": [
    "*Answer:* FILL IN"
   ]
  }
 ],
 "metadata": {
  "colab": {
   "provenance": []
  },
  "kernelspec": {
   "display_name": "Python 3 (ipykernel)",
   "language": "python",
   "name": "python3"
  },
  "language_info": {
   "codemirror_mode": {
    "name": "ipython",
    "version": 3
   },
   "file_extension": ".py",
   "mimetype": "text/x-python",
   "name": "python",
   "nbconvert_exporter": "python",
   "pygments_lexer": "ipython3",
   "version": "3.9.13"
  }
 },
 "nbformat": 4,
 "nbformat_minor": 1
}
